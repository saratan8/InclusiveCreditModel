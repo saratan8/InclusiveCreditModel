{
 "cells": [
  {
   "cell_type": "markdown",
   "id": "c9057233",
   "metadata": {},
   "source": [
    "FICO estimator: https://www.myfico.com/fico-credit-score-estimator/estimator\n"
   ]
  },
  {
   "cell_type": "code",
   "execution_count": 43,
   "id": "5f824c36",
   "metadata": {},
   "outputs": [
    {
     "name": "stdout",
     "output_type": "stream",
     "text": [
      "3750\n",
      "Your approximate credit score is: 732\n"
     ]
    }
   ],
   "source": [
    "def calculate_credit_score(answers):\n",
    "    scoring_system = {\n",
    "        #1. How many credit cards do you have?\n",
    "        'q1': {'never_have': 20, '1': 400, '2_to_4': 450, '5_or_more': 400},\n",
    "        \n",
    "        #1a. How long ago did you get your first credit card?\n",
    "        'q1a': {'less_than_6_mo': 200 ,'6_mo_to_2_years':450, '2_to_4_years': 350, '4_to_5_years': 300, '4_to_8_years': 325,'8_to_10_years': 350,'10_to_15_years': 375,'15_to_20_years': 400,'over_20_years': 450},\n",
    "        \n",
    "        #2a. How long ago did you get your first loan? (i.e., auto loan, mortgage, student loan, etc.)\n",
    "        'q2a': {'less_than_6_mo': 200,'6_mo_to_2_years':300, '2_to_5_years': 325, '5_to_10_years': 300, '10_to_15_years': 250,'15_to_20_years': 225,'over_20_years': 200},\n",
    "        \n",
    "        #3. How many loans or credit cards have you applied for in the last year?\n",
    "        'q3': {'0': 100, '1': 300, '2': 325, '3_to_5': 300,'over_6': 200},\n",
    "        \n",
    "        #4. How recently have you opened a new loan or credit card?\n",
    "        'q4': {'less_than_3_mo': 200, '3_mo_to_6_mo':300, 'over_6_mo': 400},\n",
    "        \n",
    "        #5. How many of your loans and/or credit cards currently have a balance?\n",
    "        'q5': {'0_to_4': 400, '5_to_6':250, '7_to_8': 150, 'over_9':50},\n",
    "        \n",
    "        #6. Besides any mortgage loans, what are your total balances on all other loans and credit cards combined?\n",
    "        'q6': {'only_mortgage': 300, 'less_than_500':50, '500_to_999': 100, '1000_to_4999':400,'5000_to_9999':300, '10k_to_19.999k':200, 'over_20k':100},\n",
    "        \n",
    "        #7. When did you last miss a loan or credit card payment?\n",
    "        'q7': {'never': 450, 'in_3_mo':350, '3_to_6_mo': 300, '6_mo_to_1_yr':200, '1_yr_to_2_yr':150,'2_yr_to_3_yr':100, '3_yr_to_4_yr':50,'3_yr_to_4_yr':25,'over_4_yr':10},\n",
    "        \n",
    "        #8. How many of your loans and/or credit cards are currently past due?\n",
    "        'q8': {'0': 450, '1':400, 'over_2': 50},\n",
    "        \n",
    "        #9. What percent of your total credit card limits do your credit card balances represent?\n",
    "        'q9': {'never_had_credit_card': 50, '0%_to_9%':475, '10%_to_19%': 450, '20%_to_29%':250,'30%_to_39%':200,'40%_to_49%':140,'50%_to_69%':160,'70%_to_89%':80,'90%_to_99%':40,'over_100%':20},\n",
    "        \n",
    "        #10. In the last 10 years, have you ever experienced bankruptcy, repossession or an account in collections?\n",
    "         'q10': {'yes': 20, 'no':400},\n",
    "\n",
    "    }\n",
    "    # Define the minimum and maximum possible scores based on the scoring system\n",
    "    min_score = sum(min(scores.values()) for scores in scoring_system.values())\n",
    "    max_score = sum(max(scores.values()) for scores in scoring_system.values())\n",
    "\n",
    "    #print(min_score)\n",
    "    #print(max_score)\n",
    "    \n",
    "    # Define the desired range for the credit score\n",
    "    desired_min = 300\n",
    "    desired_max = 850\n",
    "    \n",
    "    scaling_factor = (desired_max - desired_min) / (max_score - min_score)\n",
    "\n",
    "\n",
    "    credit_score = 0\n",
    "    for question, answer in answers.items():\n",
    "        if question in scoring_system:\n",
    "            credit_score += scoring_system[question].get(answer, 0)\n",
    "    print(credit_score)\n",
    "    final_credit_score = round(desired_min + scaling_factor * (credit_score - min_score))\n",
    "\n",
    "    return final_credit_score\n",
    "\n",
    "def main():\n",
    "    # Sample user responses \n",
    "    user_responses = {\n",
    "        'q1': '1',\n",
    "        'q1a': '6_mo_to_2_years',\n",
    "        'q2a': 'less_than_6_mo',\n",
    "        'q3': '0',\n",
    "        'q4': 'over_6_mo',\n",
    "        'q5': '0_to_4',\n",
    "        'q6': 'less_than_500',\n",
    "        'q7': 'never',\n",
    "        'q8': '0',\n",
    "        'q9': '10%_to_19%',\n",
    "        'q10': 'no',\n",
    "    }\n",
    "    \n",
    "    credit_score = calculate_credit_score(user_responses)\n",
    "    print(f\"Your approximate credit score is: {credit_score}\")\n",
    "\n",
    "if __name__ == \"__main__\":\n",
    "    main()\n"
   ]
  },
  {
   "cell_type": "code",
   "execution_count": null,
   "id": "726c164b",
   "metadata": {},
   "outputs": [],
   "source": []
  }
 ],
 "metadata": {
  "kernelspec": {
   "display_name": "Python 3 (ipykernel)",
   "language": "python",
   "name": "python3"
  },
  "language_info": {
   "codemirror_mode": {
    "name": "ipython",
    "version": 3
   },
   "file_extension": ".py",
   "mimetype": "text/x-python",
   "name": "python",
   "nbconvert_exporter": "python",
   "pygments_lexer": "ipython3",
   "version": "3.9.13"
  }
 },
 "nbformat": 4,
 "nbformat_minor": 5
}
