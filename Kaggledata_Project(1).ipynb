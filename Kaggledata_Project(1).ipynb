{
 "cells": [
  {
   "cell_type": "code",
   "execution_count": 6,
   "id": "e86f3a93",
   "metadata": {
    "slideshow": {
     "slide_type": "slide"
    }
   },
   "outputs": [],
   "source": [
    "import pandas as pd\n",
    "import numpy as np\n",
    "from scipy import stats\n",
    "from sklearn.model_selection import train_test_split\n",
    "from imblearn.over_sampling import SMOTE\n",
    "from imblearn.over_sampling import RandomOverSampler\n",
    "from sklearn.ensemble import RandomForestRegressor\n",
    "from sklearn.inspection import permutation_importance\n",
    "from sklearn.preprocessing import LabelEncoder"
   ]
  },
  {
   "cell_type": "code",
   "execution_count": 34,
   "id": "8ccc090c",
   "metadata": {
    "slideshow": {
     "slide_type": "subslide"
    }
   },
   "outputs": [
    {
     "data": {
      "text/html": [
       "<div>\n",
       "<style scoped>\n",
       "    .dataframe tbody tr th:only-of-type {\n",
       "        vertical-align: middle;\n",
       "    }\n",
       "\n",
       "    .dataframe tbody tr th {\n",
       "        vertical-align: top;\n",
       "    }\n",
       "\n",
       "    .dataframe thead th {\n",
       "        text-align: right;\n",
       "    }\n",
       "</style>\n",
       "<table border=\"1\" class=\"dataframe\">\n",
       "  <thead>\n",
       "    <tr style=\"text-align: right;\">\n",
       "      <th></th>\n",
       "      <th>Unnamed: 0</th>\n",
       "      <th>SeriousDlqin2yrs</th>\n",
       "      <th>RevolvingUtilizationOfUnsecuredLines</th>\n",
       "      <th>age</th>\n",
       "      <th>NumberOfTime30-59DaysPastDueNotWorse</th>\n",
       "      <th>DebtRatio</th>\n",
       "      <th>MonthlyIncome</th>\n",
       "      <th>NumberOfOpenCreditLinesAndLoans</th>\n",
       "      <th>NumberOfTimes90DaysLate</th>\n",
       "      <th>NumberRealEstateLoansOrLines</th>\n",
       "      <th>NumberOfTime60-89DaysPastDueNotWorse</th>\n",
       "      <th>NumberOfDependents</th>\n",
       "    </tr>\n",
       "  </thead>\n",
       "  <tbody>\n",
       "    <tr>\n",
       "      <th>0</th>\n",
       "      <td>1</td>\n",
       "      <td>1</td>\n",
       "      <td>0.766127</td>\n",
       "      <td>45</td>\n",
       "      <td>2</td>\n",
       "      <td>0.802982</td>\n",
       "      <td>9120.0</td>\n",
       "      <td>13</td>\n",
       "      <td>0</td>\n",
       "      <td>6</td>\n",
       "      <td>0</td>\n",
       "      <td>2.0</td>\n",
       "    </tr>\n",
       "    <tr>\n",
       "      <th>1</th>\n",
       "      <td>2</td>\n",
       "      <td>0</td>\n",
       "      <td>0.957151</td>\n",
       "      <td>40</td>\n",
       "      <td>0</td>\n",
       "      <td>0.121876</td>\n",
       "      <td>2600.0</td>\n",
       "      <td>4</td>\n",
       "      <td>0</td>\n",
       "      <td>0</td>\n",
       "      <td>0</td>\n",
       "      <td>1.0</td>\n",
       "    </tr>\n",
       "    <tr>\n",
       "      <th>2</th>\n",
       "      <td>3</td>\n",
       "      <td>0</td>\n",
       "      <td>0.658180</td>\n",
       "      <td>38</td>\n",
       "      <td>1</td>\n",
       "      <td>0.085113</td>\n",
       "      <td>3042.0</td>\n",
       "      <td>2</td>\n",
       "      <td>1</td>\n",
       "      <td>0</td>\n",
       "      <td>0</td>\n",
       "      <td>0.0</td>\n",
       "    </tr>\n",
       "    <tr>\n",
       "      <th>3</th>\n",
       "      <td>4</td>\n",
       "      <td>0</td>\n",
       "      <td>0.233810</td>\n",
       "      <td>30</td>\n",
       "      <td>0</td>\n",
       "      <td>0.036050</td>\n",
       "      <td>3300.0</td>\n",
       "      <td>5</td>\n",
       "      <td>0</td>\n",
       "      <td>0</td>\n",
       "      <td>0</td>\n",
       "      <td>0.0</td>\n",
       "    </tr>\n",
       "    <tr>\n",
       "      <th>4</th>\n",
       "      <td>5</td>\n",
       "      <td>0</td>\n",
       "      <td>0.907239</td>\n",
       "      <td>49</td>\n",
       "      <td>1</td>\n",
       "      <td>0.024926</td>\n",
       "      <td>63588.0</td>\n",
       "      <td>7</td>\n",
       "      <td>0</td>\n",
       "      <td>1</td>\n",
       "      <td>0</td>\n",
       "      <td>0.0</td>\n",
       "    </tr>\n",
       "    <tr>\n",
       "      <th>...</th>\n",
       "      <td>...</td>\n",
       "      <td>...</td>\n",
       "      <td>...</td>\n",
       "      <td>...</td>\n",
       "      <td>...</td>\n",
       "      <td>...</td>\n",
       "      <td>...</td>\n",
       "      <td>...</td>\n",
       "      <td>...</td>\n",
       "      <td>...</td>\n",
       "      <td>...</td>\n",
       "      <td>...</td>\n",
       "    </tr>\n",
       "    <tr>\n",
       "      <th>149995</th>\n",
       "      <td>149996</td>\n",
       "      <td>0</td>\n",
       "      <td>0.040674</td>\n",
       "      <td>74</td>\n",
       "      <td>0</td>\n",
       "      <td>0.225131</td>\n",
       "      <td>2100.0</td>\n",
       "      <td>4</td>\n",
       "      <td>0</td>\n",
       "      <td>1</td>\n",
       "      <td>0</td>\n",
       "      <td>0.0</td>\n",
       "    </tr>\n",
       "    <tr>\n",
       "      <th>149996</th>\n",
       "      <td>149997</td>\n",
       "      <td>0</td>\n",
       "      <td>0.299745</td>\n",
       "      <td>44</td>\n",
       "      <td>0</td>\n",
       "      <td>0.716562</td>\n",
       "      <td>5584.0</td>\n",
       "      <td>4</td>\n",
       "      <td>0</td>\n",
       "      <td>1</td>\n",
       "      <td>0</td>\n",
       "      <td>2.0</td>\n",
       "    </tr>\n",
       "    <tr>\n",
       "      <th>149997</th>\n",
       "      <td>149998</td>\n",
       "      <td>0</td>\n",
       "      <td>0.246044</td>\n",
       "      <td>58</td>\n",
       "      <td>0</td>\n",
       "      <td>3870.000000</td>\n",
       "      <td>NaN</td>\n",
       "      <td>18</td>\n",
       "      <td>0</td>\n",
       "      <td>1</td>\n",
       "      <td>0</td>\n",
       "      <td>0.0</td>\n",
       "    </tr>\n",
       "    <tr>\n",
       "      <th>149998</th>\n",
       "      <td>149999</td>\n",
       "      <td>0</td>\n",
       "      <td>0.000000</td>\n",
       "      <td>30</td>\n",
       "      <td>0</td>\n",
       "      <td>0.000000</td>\n",
       "      <td>5716.0</td>\n",
       "      <td>4</td>\n",
       "      <td>0</td>\n",
       "      <td>0</td>\n",
       "      <td>0</td>\n",
       "      <td>0.0</td>\n",
       "    </tr>\n",
       "    <tr>\n",
       "      <th>149999</th>\n",
       "      <td>150000</td>\n",
       "      <td>0</td>\n",
       "      <td>0.850283</td>\n",
       "      <td>64</td>\n",
       "      <td>0</td>\n",
       "      <td>0.249908</td>\n",
       "      <td>8158.0</td>\n",
       "      <td>8</td>\n",
       "      <td>0</td>\n",
       "      <td>2</td>\n",
       "      <td>0</td>\n",
       "      <td>0.0</td>\n",
       "    </tr>\n",
       "  </tbody>\n",
       "</table>\n",
       "<p>150000 rows × 12 columns</p>\n",
       "</div>"
      ],
      "text/plain": [
       "        Unnamed: 0  SeriousDlqin2yrs  RevolvingUtilizationOfUnsecuredLines  \\\n",
       "0                1                 1                              0.766127   \n",
       "1                2                 0                              0.957151   \n",
       "2                3                 0                              0.658180   \n",
       "3                4                 0                              0.233810   \n",
       "4                5                 0                              0.907239   \n",
       "...            ...               ...                                   ...   \n",
       "149995      149996                 0                              0.040674   \n",
       "149996      149997                 0                              0.299745   \n",
       "149997      149998                 0                              0.246044   \n",
       "149998      149999                 0                              0.000000   \n",
       "149999      150000                 0                              0.850283   \n",
       "\n",
       "        age  NumberOfTime30-59DaysPastDueNotWorse    DebtRatio  MonthlyIncome  \\\n",
       "0        45                                     2     0.802982         9120.0   \n",
       "1        40                                     0     0.121876         2600.0   \n",
       "2        38                                     1     0.085113         3042.0   \n",
       "3        30                                     0     0.036050         3300.0   \n",
       "4        49                                     1     0.024926        63588.0   \n",
       "...     ...                                   ...          ...            ...   \n",
       "149995   74                                     0     0.225131         2100.0   \n",
       "149996   44                                     0     0.716562         5584.0   \n",
       "149997   58                                     0  3870.000000            NaN   \n",
       "149998   30                                     0     0.000000         5716.0   \n",
       "149999   64                                     0     0.249908         8158.0   \n",
       "\n",
       "        NumberOfOpenCreditLinesAndLoans  NumberOfTimes90DaysLate  \\\n",
       "0                                    13                        0   \n",
       "1                                     4                        0   \n",
       "2                                     2                        1   \n",
       "3                                     5                        0   \n",
       "4                                     7                        0   \n",
       "...                                 ...                      ...   \n",
       "149995                                4                        0   \n",
       "149996                                4                        0   \n",
       "149997                               18                        0   \n",
       "149998                                4                        0   \n",
       "149999                                8                        0   \n",
       "\n",
       "        NumberRealEstateLoansOrLines  NumberOfTime60-89DaysPastDueNotWorse  \\\n",
       "0                                  6                                     0   \n",
       "1                                  0                                     0   \n",
       "2                                  0                                     0   \n",
       "3                                  0                                     0   \n",
       "4                                  1                                     0   \n",
       "...                              ...                                   ...   \n",
       "149995                             1                                     0   \n",
       "149996                             1                                     0   \n",
       "149997                             1                                     0   \n",
       "149998                             0                                     0   \n",
       "149999                             2                                     0   \n",
       "\n",
       "        NumberOfDependents  \n",
       "0                      2.0  \n",
       "1                      1.0  \n",
       "2                      0.0  \n",
       "3                      0.0  \n",
       "4                      0.0  \n",
       "...                    ...  \n",
       "149995                 0.0  \n",
       "149996                 2.0  \n",
       "149997                 0.0  \n",
       "149998                 0.0  \n",
       "149999                 0.0  \n",
       "\n",
       "[150000 rows x 12 columns]"
      ]
     },
     "execution_count": 34,
     "metadata": {},
     "output_type": "execute_result"
    }
   ],
   "source": [
    "df_train = pd.read_csv('/Users/mengjiatan/Desktop/credit/cs-training.csv')\n",
    "df_train"
   ]
  },
  {
   "cell_type": "code",
   "execution_count": 35,
   "id": "63c9a8bc",
   "metadata": {
    "slideshow": {
     "slide_type": "subslide"
    }
   },
   "outputs": [],
   "source": [
    "#drop firt col & change column to lower case \n",
    "df_train = df_train.drop('Unnamed: 0', axis = 1)\n",
    "\n",
    "\n",
    "# For each column heading we replace \"-\" and convert the heading in lowercase \n",
    "cleancolumn = []\n",
    "for i in range(len(df_train.columns)):\n",
    "    cleancolumn.append(df_train.columns[i].lower())\n",
    "df_train.columns = cleancolumn"
   ]
  },
  {
   "cell_type": "code",
   "execution_count": 37,
   "id": "267224e9",
   "metadata": {
    "slideshow": {
     "slide_type": "fragment"
    }
   },
   "outputs": [
    {
     "data": {
      "text/plain": [
       "seriousdlqin2yrs                            0\n",
       "revolvingutilizationofunsecuredlines        0\n",
       "age                                         0\n",
       "numberoftime30-59dayspastduenotworse        0\n",
       "debtratio                                   0\n",
       "monthlyincome                           29731\n",
       "numberofopencreditlinesandloans             0\n",
       "numberoftimes90dayslate                     0\n",
       "numberrealestateloansorlines                0\n",
       "numberoftime60-89dayspastduenotworse        0\n",
       "numberofdependents                       3924\n",
       "dtype: int64"
      ]
     },
     "execution_count": 37,
     "metadata": {},
     "output_type": "execute_result"
    }
   ],
   "source": [
    "df_train.isnull().sum()"
   ]
  },
  {
   "cell_type": "code",
   "execution_count": 40,
   "id": "6b872a43",
   "metadata": {
    "slideshow": {
     "slide_type": "fragment"
    }
   },
   "outputs": [
    {
     "data": {
      "text/plain": [
       "seriousdlqin2yrs                        0\n",
       "revolvingutilizationofunsecuredlines    0\n",
       "age                                     0\n",
       "numberoftime30-59dayspastduenotworse    0\n",
       "debtratio                               0\n",
       "monthlyincome                           0\n",
       "numberofopencreditlinesandloans         0\n",
       "numberoftimes90dayslate                 0\n",
       "numberrealestateloansorlines            0\n",
       "numberoftime60-89dayspastduenotworse    0\n",
       "numberofdependents                      0\n",
       "dtype: int64"
      ]
     },
     "execution_count": 40,
     "metadata": {},
     "output_type": "execute_result"
    }
   ],
   "source": [
    "#drop NaN\n",
    "df_train = df_train.dropna()\n",
    "df_train.isnull().sum()"
   ]
  },
  {
   "cell_type": "code",
   "execution_count": 41,
   "id": "669d6a7b",
   "metadata": {
    "slideshow": {
     "slide_type": "subslide"
    }
   },
   "outputs": [
    {
     "name": "stdout",
     "output_type": "stream",
     "text": [
      "[]\n"
     ]
    },
    {
     "data": {
      "text/html": [
       "<div>\n",
       "<style scoped>\n",
       "    .dataframe tbody tr th:only-of-type {\n",
       "        vertical-align: middle;\n",
       "    }\n",
       "\n",
       "    .dataframe tbody tr th {\n",
       "        vertical-align: top;\n",
       "    }\n",
       "\n",
       "    .dataframe thead th {\n",
       "        text-align: right;\n",
       "    }\n",
       "</style>\n",
       "<table border=\"1\" class=\"dataframe\">\n",
       "  <thead>\n",
       "    <tr style=\"text-align: right;\">\n",
       "      <th></th>\n",
       "      <th>seriousdlqin2yrs</th>\n",
       "      <th>revolvingutilizationofunsecuredlines</th>\n",
       "      <th>age</th>\n",
       "      <th>numberoftime30-59dayspastduenotworse</th>\n",
       "      <th>debtratio</th>\n",
       "      <th>monthlyincome</th>\n",
       "      <th>numberofopencreditlinesandloans</th>\n",
       "      <th>numberoftimes90dayslate</th>\n",
       "      <th>numberrealestateloansorlines</th>\n",
       "      <th>numberoftime60-89dayspastduenotworse</th>\n",
       "      <th>numberofdependents</th>\n",
       "    </tr>\n",
       "  </thead>\n",
       "  <tbody>\n",
       "    <tr>\n",
       "      <th>0</th>\n",
       "      <td>1</td>\n",
       "      <td>0.766127</td>\n",
       "      <td>45</td>\n",
       "      <td>2</td>\n",
       "      <td>0.802982</td>\n",
       "      <td>9120.0</td>\n",
       "      <td>13</td>\n",
       "      <td>0</td>\n",
       "      <td>6</td>\n",
       "      <td>0</td>\n",
       "      <td>2.0</td>\n",
       "    </tr>\n",
       "    <tr>\n",
       "      <th>1</th>\n",
       "      <td>0</td>\n",
       "      <td>0.957151</td>\n",
       "      <td>40</td>\n",
       "      <td>0</td>\n",
       "      <td>0.121876</td>\n",
       "      <td>2600.0</td>\n",
       "      <td>4</td>\n",
       "      <td>0</td>\n",
       "      <td>0</td>\n",
       "      <td>0</td>\n",
       "      <td>1.0</td>\n",
       "    </tr>\n",
       "    <tr>\n",
       "      <th>2</th>\n",
       "      <td>0</td>\n",
       "      <td>0.658180</td>\n",
       "      <td>38</td>\n",
       "      <td>1</td>\n",
       "      <td>0.085113</td>\n",
       "      <td>3042.0</td>\n",
       "      <td>2</td>\n",
       "      <td>1</td>\n",
       "      <td>0</td>\n",
       "      <td>0</td>\n",
       "      <td>0.0</td>\n",
       "    </tr>\n",
       "    <tr>\n",
       "      <th>3</th>\n",
       "      <td>0</td>\n",
       "      <td>0.233810</td>\n",
       "      <td>30</td>\n",
       "      <td>0</td>\n",
       "      <td>0.036050</td>\n",
       "      <td>3300.0</td>\n",
       "      <td>5</td>\n",
       "      <td>0</td>\n",
       "      <td>0</td>\n",
       "      <td>0</td>\n",
       "      <td>0.0</td>\n",
       "    </tr>\n",
       "    <tr>\n",
       "      <th>4</th>\n",
       "      <td>0</td>\n",
       "      <td>0.907239</td>\n",
       "      <td>49</td>\n",
       "      <td>1</td>\n",
       "      <td>0.024926</td>\n",
       "      <td>63588.0</td>\n",
       "      <td>7</td>\n",
       "      <td>0</td>\n",
       "      <td>1</td>\n",
       "      <td>0</td>\n",
       "      <td>0.0</td>\n",
       "    </tr>\n",
       "    <tr>\n",
       "      <th>...</th>\n",
       "      <td>...</td>\n",
       "      <td>...</td>\n",
       "      <td>...</td>\n",
       "      <td>...</td>\n",
       "      <td>...</td>\n",
       "      <td>...</td>\n",
       "      <td>...</td>\n",
       "      <td>...</td>\n",
       "      <td>...</td>\n",
       "      <td>...</td>\n",
       "      <td>...</td>\n",
       "    </tr>\n",
       "    <tr>\n",
       "      <th>149994</th>\n",
       "      <td>0</td>\n",
       "      <td>0.385742</td>\n",
       "      <td>50</td>\n",
       "      <td>0</td>\n",
       "      <td>0.404293</td>\n",
       "      <td>3400.0</td>\n",
       "      <td>7</td>\n",
       "      <td>0</td>\n",
       "      <td>0</td>\n",
       "      <td>0</td>\n",
       "      <td>0.0</td>\n",
       "    </tr>\n",
       "    <tr>\n",
       "      <th>149995</th>\n",
       "      <td>0</td>\n",
       "      <td>0.040674</td>\n",
       "      <td>74</td>\n",
       "      <td>0</td>\n",
       "      <td>0.225131</td>\n",
       "      <td>2100.0</td>\n",
       "      <td>4</td>\n",
       "      <td>0</td>\n",
       "      <td>1</td>\n",
       "      <td>0</td>\n",
       "      <td>0.0</td>\n",
       "    </tr>\n",
       "    <tr>\n",
       "      <th>149996</th>\n",
       "      <td>0</td>\n",
       "      <td>0.299745</td>\n",
       "      <td>44</td>\n",
       "      <td>0</td>\n",
       "      <td>0.716562</td>\n",
       "      <td>5584.0</td>\n",
       "      <td>4</td>\n",
       "      <td>0</td>\n",
       "      <td>1</td>\n",
       "      <td>0</td>\n",
       "      <td>2.0</td>\n",
       "    </tr>\n",
       "    <tr>\n",
       "      <th>149998</th>\n",
       "      <td>0</td>\n",
       "      <td>0.000000</td>\n",
       "      <td>30</td>\n",
       "      <td>0</td>\n",
       "      <td>0.000000</td>\n",
       "      <td>5716.0</td>\n",
       "      <td>4</td>\n",
       "      <td>0</td>\n",
       "      <td>0</td>\n",
       "      <td>0</td>\n",
       "      <td>0.0</td>\n",
       "    </tr>\n",
       "    <tr>\n",
       "      <th>149999</th>\n",
       "      <td>0</td>\n",
       "      <td>0.850283</td>\n",
       "      <td>64</td>\n",
       "      <td>0</td>\n",
       "      <td>0.249908</td>\n",
       "      <td>8158.0</td>\n",
       "      <td>8</td>\n",
       "      <td>0</td>\n",
       "      <td>2</td>\n",
       "      <td>0</td>\n",
       "      <td>0.0</td>\n",
       "    </tr>\n",
       "  </tbody>\n",
       "</table>\n",
       "<p>120269 rows × 11 columns</p>\n",
       "</div>"
      ],
      "text/plain": [
       "        seriousdlqin2yrs  revolvingutilizationofunsecuredlines  age  \\\n",
       "0                      1                              0.766127   45   \n",
       "1                      0                              0.957151   40   \n",
       "2                      0                              0.658180   38   \n",
       "3                      0                              0.233810   30   \n",
       "4                      0                              0.907239   49   \n",
       "...                  ...                                   ...  ...   \n",
       "149994                 0                              0.385742   50   \n",
       "149995                 0                              0.040674   74   \n",
       "149996                 0                              0.299745   44   \n",
       "149998                 0                              0.000000   30   \n",
       "149999                 0                              0.850283   64   \n",
       "\n",
       "        numberoftime30-59dayspastduenotworse  debtratio  monthlyincome  \\\n",
       "0                                          2   0.802982         9120.0   \n",
       "1                                          0   0.121876         2600.0   \n",
       "2                                          1   0.085113         3042.0   \n",
       "3                                          0   0.036050         3300.0   \n",
       "4                                          1   0.024926        63588.0   \n",
       "...                                      ...        ...            ...   \n",
       "149994                                     0   0.404293         3400.0   \n",
       "149995                                     0   0.225131         2100.0   \n",
       "149996                                     0   0.716562         5584.0   \n",
       "149998                                     0   0.000000         5716.0   \n",
       "149999                                     0   0.249908         8158.0   \n",
       "\n",
       "        numberofopencreditlinesandloans  numberoftimes90dayslate  \\\n",
       "0                                    13                        0   \n",
       "1                                     4                        0   \n",
       "2                                     2                        1   \n",
       "3                                     5                        0   \n",
       "4                                     7                        0   \n",
       "...                                 ...                      ...   \n",
       "149994                                7                        0   \n",
       "149995                                4                        0   \n",
       "149996                                4                        0   \n",
       "149998                                4                        0   \n",
       "149999                                8                        0   \n",
       "\n",
       "        numberrealestateloansorlines  numberoftime60-89dayspastduenotworse  \\\n",
       "0                                  6                                     0   \n",
       "1                                  0                                     0   \n",
       "2                                  0                                     0   \n",
       "3                                  0                                     0   \n",
       "4                                  1                                     0   \n",
       "...                              ...                                   ...   \n",
       "149994                             0                                     0   \n",
       "149995                             1                                     0   \n",
       "149996                             1                                     0   \n",
       "149998                             0                                     0   \n",
       "149999                             2                                     0   \n",
       "\n",
       "        numberofdependents  \n",
       "0                      2.0  \n",
       "1                      1.0  \n",
       "2                      0.0  \n",
       "3                      0.0  \n",
       "4                      0.0  \n",
       "...                    ...  \n",
       "149994                 0.0  \n",
       "149995                 0.0  \n",
       "149996                 2.0  \n",
       "149998                 0.0  \n",
       "149999                 0.0  \n",
       "\n",
       "[120269 rows x 11 columns]"
      ]
     },
     "execution_count": 41,
     "metadata": {},
     "output_type": "execute_result"
    }
   ],
   "source": [
    "# Check for non-numeric values in each column of 'X'\n",
    "non_numeric_columns = df_train.apply(pd.to_numeric, errors='coerce').isnull().any()\n",
    "\n",
    "# Get the column names with non-numeric values\n",
    "columns_with_non_numeric = non_numeric_columns[non_numeric_columns].index.tolist()\n",
    "\n",
    "print(columns_with_non_numeric)\n",
    "df_train"
   ]
  },
  {
   "cell_type": "code",
   "execution_count": 42,
   "id": "31fdcb95",
   "metadata": {
    "slideshow": {
     "slide_type": "fragment"
    }
   },
   "outputs": [
    {
     "data": {
      "text/plain": [
       "\"\\nfrom sklearn.preprocessing import LabelEncoder\\n\\nlabel_encoder = LabelEncoder()\\ncategorical_cols = df_train.select_dtypes(include=['object']).columns\\nfor col in categorical_cols:\\n    df_train[col] = label_encoder.fit_transform(df_train[col])\\n\\ndf_train.head()\\n\""
      ]
     },
     "execution_count": 42,
     "metadata": {},
     "output_type": "execute_result"
    }
   ],
   "source": [
    "# Transform categorical cells into numeric values\n",
    "'''\n",
    "from sklearn.preprocessing import LabelEncoder\n",
    "\n",
    "label_encoder = LabelEncoder()\n",
    "categorical_cols = df_train.select_dtypes(include=['object']).columns\n",
    "for col in categorical_cols:\n",
    "    df_train[col] = label_encoder.fit_transform(df_train[col])\n",
    "\n",
    "df_train.head()\n",
    "'''"
   ]
  },
  {
   "cell_type": "code",
   "execution_count": 9,
   "id": "b0d03ba9",
   "metadata": {},
   "outputs": [],
   "source": [
    "def load_data(file_path):\n",
    "    # Load the data\n",
    "    df_train = pd.read_csv(file_path)\n",
    "    \n",
    "    # For each column heading we replace \"-\" and convert the heading in lowercase \n",
    "    cleancolumn = []\n",
    "    for i in range(len(df_train.columns)):\n",
    "        cleancolumn.append(df_train.columns[i].lower())\n",
    "    df_train.columns = cleancolumn\n",
    "    \n",
    "    # Drop NaN\n",
    "    df_train = df_train.dropna()\n",
    "    \n",
    "    # Check for non-numeric values in each column of 'X'\n",
    "    non_numeric_columns = df_train.apply(pd.to_numeric, errors='coerce').isnull().any()\n",
    "\n",
    "    # Get the column names with non-numeric values\n",
    "    columns_with_non_numeric = non_numeric_columns[non_numeric_columns].index.tolist()\n",
    "\n",
    "    print('columns with non-numeric input:', columns_with_non_numeric)\n",
    "    \n",
    "    # Transform categorical cells into numeric values\n",
    "    label_encoder = LabelEncoder()\n",
    "    categorical_cols = df_train.select_dtypes(include=['object']).columns\n",
    "    for col in categorical_cols:\n",
    "        df_train[col] = label_encoder.fit_transform(df_train[col])\n",
    "    \n",
    "    return df_train"
   ]
  },
  {
   "cell_type": "code",
   "execution_count": 13,
   "id": "979bcdec",
   "metadata": {},
   "outputs": [
    {
     "name": "stdout",
     "output_type": "stream",
     "text": [
      "columns with non-numeric input: []\n"
     ]
    }
   ],
   "source": [
    "df_train = load_data('/Users/mengjiatan/Desktop/credit/cs-training.csv')"
   ]
  },
  {
   "cell_type": "code",
   "execution_count": 54,
   "id": "51072321",
   "metadata": {
    "slideshow": {
     "slide_type": "skip"
    }
   },
   "outputs": [],
   "source": [
    "X = df_train.drop('seriousdlqin2yrs', axis=1)\n",
    "y = df_train[\"seriousdlqin2yrs\"]"
   ]
  },
  {
   "cell_type": "code",
   "execution_count": 55,
   "id": "e353a05a",
   "metadata": {
    "slideshow": {
     "slide_type": "skip"
    }
   },
   "outputs": [
    {
     "data": {
      "text/plain": [
       "((120269, 10), (120269,))"
      ]
     },
     "execution_count": 55,
     "metadata": {},
     "output_type": "execute_result"
    }
   ],
   "source": [
    "X.shape,y.shape"
   ]
  },
  {
   "cell_type": "code",
   "execution_count": 56,
   "id": "0e5fe9c2",
   "metadata": {
    "slideshow": {
     "slide_type": "subslide"
    }
   },
   "outputs": [
    {
     "data": {
      "text/plain": [
       "0    93.05141\n",
       "1     6.94859\n",
       "Name: seriousdlqin2yrs, dtype: float64"
      ]
     },
     "execution_count": 56,
     "metadata": {},
     "output_type": "execute_result"
    }
   ],
   "source": [
    "# distribution of the target feature \n",
    "total_len = len(y)\n",
    "percentage_labels = (y.value_counts()/total_len)*100\n",
    "percentage_labels"
   ]
  },
  {
   "cell_type": "markdown",
   "id": "747177d9",
   "metadata": {
    "slideshow": {
     "slide_type": "subslide"
    }
   },
   "source": [
    "oversampling \n",
    "- it's important to note that oversampling should only be applied to the training data, not the validation or test data. \n",
    "- This is because oversampling can lead to overfitting if it's applied to the validation or test data."
   ]
  },
  {
   "cell_type": "code",
   "execution_count": 57,
   "id": "dbaa1773",
   "metadata": {
    "slideshow": {
     "slide_type": "subslide"
    }
   },
   "outputs": [],
   "source": [
    "# Split the data into training and test sets\n",
    "X_train, X_test, y_train, y_test = train_test_split(X, y, test_size=0.2, random_state=42)"
   ]
  },
  {
   "cell_type": "code",
   "execution_count": 58,
   "id": "8f376998",
   "metadata": {
    "slideshow": {
     "slide_type": "skip"
    }
   },
   "outputs": [
    {
     "data": {
      "text/plain": [
       "((96215, 10), (24054, 10))"
      ]
     },
     "execution_count": 58,
     "metadata": {},
     "output_type": "execute_result"
    }
   ],
   "source": [
    "X_train.shape,X_test.shape"
   ]
  },
  {
   "cell_type": "code",
   "execution_count": 59,
   "id": "fa0a8372",
   "metadata": {
    "slideshow": {
     "slide_type": "fragment"
    }
   },
   "outputs": [],
   "source": [
    "#oversampling \n",
    "sm = RandomOverSampler(sampling_strategy = 0.3, random_state=42)\n",
    "X_res, y_res = sm.fit_resample(X_train, y_train)"
   ]
  },
  {
   "cell_type": "code",
   "execution_count": 64,
   "id": "451d81fb",
   "metadata": {
    "slideshow": {
     "slide_type": "fragment"
    }
   },
   "outputs": [
    {
     "data": {
      "text/plain": [
       "0    89556\n",
       "1    26866\n",
       "Name: seriousdlqin2yrs, dtype: int64"
      ]
     },
     "execution_count": 64,
     "metadata": {},
     "output_type": "execute_result"
    }
   ],
   "source": [
    "# Display the count of each class in the oversampled training data\n",
    "y_res.value_counts()"
   ]
  },
  {
   "cell_type": "code",
   "execution_count": 67,
   "id": "84d71380",
   "metadata": {
    "slideshow": {
     "slide_type": "fragment"
    }
   },
   "outputs": [
    {
     "data": {
      "text/plain": [
       "((116422,), (116422, 10))"
      ]
     },
     "execution_count": 67,
     "metadata": {},
     "output_type": "execute_result"
    }
   ],
   "source": [
    "y_res.shape, X_res.shape"
   ]
  },
  {
   "cell_type": "code",
   "execution_count": 69,
   "id": "48dbf8dc",
   "metadata": {
    "slideshow": {
     "slide_type": "fragment"
    }
   },
   "outputs": [
    {
     "data": {
      "text/plain": [
       "(116422, 11)"
      ]
     },
     "execution_count": 69,
     "metadata": {},
     "output_type": "execute_result"
    }
   ],
   "source": [
    "#concat X_res and y_res into new training data, which is the rescaled training dataset\n",
    "dff = pd.concat([X_res, y_res], axis=1)\n",
    "dff.shape"
   ]
  },
  {
   "cell_type": "code",
   "execution_count": 82,
   "id": "96487ddb",
   "metadata": {
    "slideshow": {
     "slide_type": "skip"
    }
   },
   "outputs": [],
   "source": [
    "dff.to_csv('rescaled_data.csv',index = False)"
   ]
  },
  {
   "cell_type": "code",
   "execution_count": 18,
   "id": "cfc86187",
   "metadata": {},
   "outputs": [],
   "source": [
    "#汇总成一个function\n",
    "def check_unbalanced(X, y):\n",
    "    # Distribution of the target feature \n",
    "    total_len = len(y)\n",
    "    percentage_labels = (y.value_counts()/total_len)*100\n",
    "    print('Distribution of the target feature :', percentage_labels)\n",
    "    \n",
    "    # Split the data into training and test sets\n",
    "    X_train, X_test, y_train, y_test = train_test_split(X, y, test_size=0.2, random_state=42)\n",
    "    print('X_train shape:',X_train.shape,'X_test shape:', X_test.shape)\n",
    "    \n",
    "    # Oversampling \n",
    "    sm = RandomOverSampler(sampling_strategy = 0.3, random_state=42)\n",
    "    X_res, y_res = sm.fit_resample(X_train, y_train)\n",
    "    \n",
    "    # Display the count of each class in the oversampled training data\n",
    "    print(y_res.value_counts())\n",
    "    print('y_rescaled shape:',y_res.shape, 'X_rescaled shape:',X_res.shape)\n",
    "    \n",
    "    # Concat X_res and y_res into new training data, which is the rescaled training dataset\n",
    "    dff = pd.concat([X_res, y_res], axis=1)\n",
    "    print('rescaled training data shape:',dff.shape)\n",
    "    \n",
    "    return dff, X_test, y_test\n"
   ]
  },
  {
   "cell_type": "code",
   "execution_count": 21,
   "id": "839128e3",
   "metadata": {},
   "outputs": [
    {
     "name": "stdout",
     "output_type": "stream",
     "text": [
      "Distribution of the target feature : 0    93.05141\n",
      "1     6.94859\n",
      "Name: seriousdlqin2yrs, dtype: float64\n",
      "X_train shape: (96215, 11) X_test shape: (24054, 11)\n",
      "0    89556\n",
      "1    26866\n",
      "Name: seriousdlqin2yrs, dtype: int64\n",
      "y_rescaled shape: (116422,) X_rescaled shape: (116422, 11)\n",
      "rescaled training data shape: (116422, 12)\n"
     ]
    }
   ],
   "source": [
    "#测试check_unbalanced function\n",
    "X = df_train.drop('seriousdlqin2yrs', axis=1)\n",
    "y = df_train[\"seriousdlqin2yrs\"]\n",
    "dff = check_unbalanced(X,y)[0]"
   ]
  },
  {
   "cell_type": "markdown",
   "id": "41ad7493",
   "metadata": {
    "slideshow": {
     "slide_type": "subslide"
    }
   },
   "source": [
    "# Data binning"
   ]
  },
  {
   "cell_type": "markdown",
   "id": "dcfcce81",
   "metadata": {
    "slideshow": {
     "slide_type": "fragment"
    }
   },
   "source": [
    "target variable cannot be binned, The target variable should be a binary variable containing 0s and 1s, where 1 indicates 'Bad' (delinquency) and 0 indicates 'Good' (no delinquency)."
   ]
  },
  {
   "cell_type": "code",
   "execution_count": 110,
   "id": "5b326264",
   "metadata": {
    "slideshow": {
     "slide_type": "fragment"
    }
   },
   "outputs": [
    {
     "data": {
      "text/html": [
       "<div>\n",
       "<style scoped>\n",
       "    .dataframe tbody tr th:only-of-type {\n",
       "        vertical-align: middle;\n",
       "    }\n",
       "\n",
       "    .dataframe tbody tr th {\n",
       "        vertical-align: top;\n",
       "    }\n",
       "\n",
       "    .dataframe thead th {\n",
       "        text-align: right;\n",
       "    }\n",
       "</style>\n",
       "<table border=\"1\" class=\"dataframe\">\n",
       "  <thead>\n",
       "    <tr style=\"text-align: right;\">\n",
       "      <th></th>\n",
       "      <th>revolvingutilizationofunsecuredlines</th>\n",
       "      <th>age</th>\n",
       "      <th>numberoftime30-59dayspastduenotworse</th>\n",
       "      <th>debtratio</th>\n",
       "      <th>monthlyincome</th>\n",
       "      <th>numberofopencreditlinesandloans</th>\n",
       "      <th>numberoftimes90dayslate</th>\n",
       "      <th>numberrealestateloansorlines</th>\n",
       "      <th>numberoftime60-89dayspastduenotworse</th>\n",
       "      <th>numberofdependents</th>\n",
       "      <th>seriousdlqin2yrs</th>\n",
       "    </tr>\n",
       "  </thead>\n",
       "  <tbody>\n",
       "    <tr>\n",
       "      <th>0</th>\n",
       "      <td>(0.0669, 0.137]</td>\n",
       "      <td>(54.0, 58.0]</td>\n",
       "      <td>(-0.001, 1.0]</td>\n",
       "      <td>(0.111, 0.18]</td>\n",
       "      <td>(11362.9, 3008750.0]</td>\n",
       "      <td>(15.0, 58.0]</td>\n",
       "      <td>(-0.001, 1.0]</td>\n",
       "      <td>(2.0, 54.0]</td>\n",
       "      <td>(-0.001, 98.0]</td>\n",
       "      <td>(2.0, 3.0]</td>\n",
       "      <td>0</td>\n",
       "    </tr>\n",
       "    <tr>\n",
       "      <th>1</th>\n",
       "      <td>(0.252, 0.414]</td>\n",
       "      <td>(-0.001, 31.0]</td>\n",
       "      <td>(-0.001, 1.0]</td>\n",
       "      <td>(0.025, 0.111]</td>\n",
       "      <td>(2916.0, 3653.0]</td>\n",
       "      <td>(3.0, 4.0]</td>\n",
       "      <td>(-0.001, 1.0]</td>\n",
       "      <td>(-0.001, 1.0]</td>\n",
       "      <td>(-0.001, 98.0]</td>\n",
       "      <td>(-0.001, 1.0]</td>\n",
       "      <td>0</td>\n",
       "    </tr>\n",
       "    <tr>\n",
       "      <th>2</th>\n",
       "      <td>(0.866, 1.0]</td>\n",
       "      <td>(37.0, 42.0]</td>\n",
       "      <td>(1.0, 98.0]</td>\n",
       "      <td>(0.304, 0.371]</td>\n",
       "      <td>(8881.0, 11362.9]</td>\n",
       "      <td>(4.0, 6.0]</td>\n",
       "      <td>(-0.001, 1.0]</td>\n",
       "      <td>(-0.001, 1.0]</td>\n",
       "      <td>(-0.001, 98.0]</td>\n",
       "      <td>(-0.001, 1.0]</td>\n",
       "      <td>1</td>\n",
       "    </tr>\n",
       "    <tr>\n",
       "      <th>3</th>\n",
       "      <td>(0.252, 0.414]</td>\n",
       "      <td>(54.0, 58.0]</td>\n",
       "      <td>(-0.001, 1.0]</td>\n",
       "      <td>(0.371, 0.451]</td>\n",
       "      <td>(7290.0, 8881.0]</td>\n",
       "      <td>(7.0, 8.0]</td>\n",
       "      <td>(-0.001, 1.0]</td>\n",
       "      <td>(1.0, 2.0]</td>\n",
       "      <td>(-0.001, 98.0]</td>\n",
       "      <td>(-0.001, 1.0]</td>\n",
       "      <td>0</td>\n",
       "    </tr>\n",
       "    <tr>\n",
       "      <th>4</th>\n",
       "      <td>(1.0, 50708.0]</td>\n",
       "      <td>(37.0, 42.0]</td>\n",
       "      <td>(-0.001, 1.0]</td>\n",
       "      <td>(0.18, 0.242]</td>\n",
       "      <td>(2916.0, 3653.0]</td>\n",
       "      <td>(-0.001, 3.0]</td>\n",
       "      <td>(-0.001, 1.0]</td>\n",
       "      <td>(-0.001, 1.0]</td>\n",
       "      <td>(-0.001, 98.0]</td>\n",
       "      <td>(1.0, 2.0]</td>\n",
       "      <td>0</td>\n",
       "    </tr>\n",
       "    <tr>\n",
       "      <th>...</th>\n",
       "      <td>...</td>\n",
       "      <td>...</td>\n",
       "      <td>...</td>\n",
       "      <td>...</td>\n",
       "      <td>...</td>\n",
       "      <td>...</td>\n",
       "      <td>...</td>\n",
       "      <td>...</td>\n",
       "      <td>...</td>\n",
       "      <td>...</td>\n",
       "      <td>...</td>\n",
       "    </tr>\n",
       "    <tr>\n",
       "      <th>116417</th>\n",
       "      <td>(1.0, 50708.0]</td>\n",
       "      <td>(50.0, 54.0]</td>\n",
       "      <td>(1.0, 98.0]</td>\n",
       "      <td>(0.565, 0.803]</td>\n",
       "      <td>(11362.9, 3008750.0]</td>\n",
       "      <td>(9.0, 11.0]</td>\n",
       "      <td>(-0.001, 1.0]</td>\n",
       "      <td>(2.0, 54.0]</td>\n",
       "      <td>(-0.001, 98.0]</td>\n",
       "      <td>(-0.001, 1.0]</td>\n",
       "      <td>1</td>\n",
       "    </tr>\n",
       "    <tr>\n",
       "      <th>116418</th>\n",
       "      <td>(0.0062, 0.0291]</td>\n",
       "      <td>(54.0, 58.0]</td>\n",
       "      <td>(-0.001, 1.0]</td>\n",
       "      <td>(0.111, 0.18]</td>\n",
       "      <td>(3653.0, 4409.0]</td>\n",
       "      <td>(-0.001, 3.0]</td>\n",
       "      <td>(-0.001, 1.0]</td>\n",
       "      <td>(-0.001, 1.0]</td>\n",
       "      <td>(-0.001, 98.0]</td>\n",
       "      <td>(3.0, 20.0]</td>\n",
       "      <td>1</td>\n",
       "    </tr>\n",
       "    <tr>\n",
       "      <th>116419</th>\n",
       "      <td>(1.0, 50708.0]</td>\n",
       "      <td>(-0.001, 31.0]</td>\n",
       "      <td>(1.0, 98.0]</td>\n",
       "      <td>(0.304, 0.371]</td>\n",
       "      <td>(5200.0, 6100.0]</td>\n",
       "      <td>(12.0, 15.0]</td>\n",
       "      <td>(-0.001, 1.0]</td>\n",
       "      <td>(-0.001, 1.0]</td>\n",
       "      <td>(-0.001, 98.0]</td>\n",
       "      <td>(-0.001, 1.0]</td>\n",
       "      <td>1</td>\n",
       "    </tr>\n",
       "    <tr>\n",
       "      <th>116420</th>\n",
       "      <td>(0.866, 1.0]</td>\n",
       "      <td>(54.0, 58.0]</td>\n",
       "      <td>(-0.001, 1.0]</td>\n",
       "      <td>(0.304, 0.371]</td>\n",
       "      <td>(5200.0, 6100.0]</td>\n",
       "      <td>(3.0, 4.0]</td>\n",
       "      <td>(-0.001, 1.0]</td>\n",
       "      <td>(1.0, 2.0]</td>\n",
       "      <td>(-0.001, 98.0]</td>\n",
       "      <td>(1.0, 2.0]</td>\n",
       "      <td>1</td>\n",
       "    </tr>\n",
       "    <tr>\n",
       "      <th>116421</th>\n",
       "      <td>(0.866, 1.0]</td>\n",
       "      <td>(42.0, 46.0]</td>\n",
       "      <td>(-0.001, 1.0]</td>\n",
       "      <td>(0.025, 0.111]</td>\n",
       "      <td>(4409.0, 5200.0]</td>\n",
       "      <td>(-0.001, 3.0]</td>\n",
       "      <td>(-0.001, 1.0]</td>\n",
       "      <td>(-0.001, 1.0]</td>\n",
       "      <td>(-0.001, 98.0]</td>\n",
       "      <td>(3.0, 20.0]</td>\n",
       "      <td>1</td>\n",
       "    </tr>\n",
       "  </tbody>\n",
       "</table>\n",
       "<p>116422 rows × 11 columns</p>\n",
       "</div>"
      ],
      "text/plain": [
       "       revolvingutilizationofunsecuredlines             age  \\\n",
       "0                           (0.0669, 0.137]    (54.0, 58.0]   \n",
       "1                            (0.252, 0.414]  (-0.001, 31.0]   \n",
       "2                              (0.866, 1.0]    (37.0, 42.0]   \n",
       "3                            (0.252, 0.414]    (54.0, 58.0]   \n",
       "4                            (1.0, 50708.0]    (37.0, 42.0]   \n",
       "...                                     ...             ...   \n",
       "116417                       (1.0, 50708.0]    (50.0, 54.0]   \n",
       "116418                     (0.0062, 0.0291]    (54.0, 58.0]   \n",
       "116419                       (1.0, 50708.0]  (-0.001, 31.0]   \n",
       "116420                         (0.866, 1.0]    (54.0, 58.0]   \n",
       "116421                         (0.866, 1.0]    (42.0, 46.0]   \n",
       "\n",
       "       numberoftime30-59dayspastduenotworse       debtratio  \\\n",
       "0                             (-0.001, 1.0]   (0.111, 0.18]   \n",
       "1                             (-0.001, 1.0]  (0.025, 0.111]   \n",
       "2                               (1.0, 98.0]  (0.304, 0.371]   \n",
       "3                             (-0.001, 1.0]  (0.371, 0.451]   \n",
       "4                             (-0.001, 1.0]   (0.18, 0.242]   \n",
       "...                                     ...             ...   \n",
       "116417                          (1.0, 98.0]  (0.565, 0.803]   \n",
       "116418                        (-0.001, 1.0]   (0.111, 0.18]   \n",
       "116419                          (1.0, 98.0]  (0.304, 0.371]   \n",
       "116420                        (-0.001, 1.0]  (0.304, 0.371]   \n",
       "116421                        (-0.001, 1.0]  (0.025, 0.111]   \n",
       "\n",
       "               monthlyincome numberofopencreditlinesandloans  \\\n",
       "0       (11362.9, 3008750.0]                    (15.0, 58.0]   \n",
       "1           (2916.0, 3653.0]                      (3.0, 4.0]   \n",
       "2          (8881.0, 11362.9]                      (4.0, 6.0]   \n",
       "3           (7290.0, 8881.0]                      (7.0, 8.0]   \n",
       "4           (2916.0, 3653.0]                   (-0.001, 3.0]   \n",
       "...                      ...                             ...   \n",
       "116417  (11362.9, 3008750.0]                     (9.0, 11.0]   \n",
       "116418      (3653.0, 4409.0]                   (-0.001, 3.0]   \n",
       "116419      (5200.0, 6100.0]                    (12.0, 15.0]   \n",
       "116420      (5200.0, 6100.0]                      (3.0, 4.0]   \n",
       "116421      (4409.0, 5200.0]                   (-0.001, 3.0]   \n",
       "\n",
       "       numberoftimes90dayslate numberrealestateloansorlines  \\\n",
       "0                (-0.001, 1.0]                  (2.0, 54.0]   \n",
       "1                (-0.001, 1.0]                (-0.001, 1.0]   \n",
       "2                (-0.001, 1.0]                (-0.001, 1.0]   \n",
       "3                (-0.001, 1.0]                   (1.0, 2.0]   \n",
       "4                (-0.001, 1.0]                (-0.001, 1.0]   \n",
       "...                        ...                          ...   \n",
       "116417           (-0.001, 1.0]                  (2.0, 54.0]   \n",
       "116418           (-0.001, 1.0]                (-0.001, 1.0]   \n",
       "116419           (-0.001, 1.0]                (-0.001, 1.0]   \n",
       "116420           (-0.001, 1.0]                   (1.0, 2.0]   \n",
       "116421           (-0.001, 1.0]                (-0.001, 1.0]   \n",
       "\n",
       "       numberoftime60-89dayspastduenotworse numberofdependents  \\\n",
       "0                            (-0.001, 98.0]         (2.0, 3.0]   \n",
       "1                            (-0.001, 98.0]      (-0.001, 1.0]   \n",
       "2                            (-0.001, 98.0]      (-0.001, 1.0]   \n",
       "3                            (-0.001, 98.0]      (-0.001, 1.0]   \n",
       "4                            (-0.001, 98.0]         (1.0, 2.0]   \n",
       "...                                     ...                ...   \n",
       "116417                       (-0.001, 98.0]      (-0.001, 1.0]   \n",
       "116418                       (-0.001, 98.0]        (3.0, 20.0]   \n",
       "116419                       (-0.001, 98.0]      (-0.001, 1.0]   \n",
       "116420                       (-0.001, 98.0]         (1.0, 2.0]   \n",
       "116421                       (-0.001, 98.0]        (3.0, 20.0]   \n",
       "\n",
       "        seriousdlqin2yrs  \n",
       "0                      0  \n",
       "1                      0  \n",
       "2                      1  \n",
       "3                      0  \n",
       "4                      0  \n",
       "...                  ...  \n",
       "116417                 1  \n",
       "116418                 1  \n",
       "116419                 1  \n",
       "116420                 1  \n",
       "116421                 1  \n",
       "\n",
       "[116422 rows x 11 columns]"
      ]
     },
     "execution_count": 110,
     "metadata": {},
     "output_type": "execute_result"
    }
   ],
   "source": [
    "# Define the target variable\n",
    "target = 'seriousdlqin2yrs'\n",
    "\n",
    "# Define the features\n",
    "features = [col for col in dff.columns if col != target]\n",
    "\n",
    "# Define the number of bins\n",
    "num_bins = 10\n",
    "\n",
    "# Initialize an empty dataframe to store the binned data\n",
    "data_binned = pd.DataFrame()\n",
    "\n",
    "# Bin the data\n",
    "for feature in features:\n",
    "    data_binned[feature] = pd.qcut(dff[feature], q=num_bins, duplicates='drop')\n",
    "\n",
    "# Add the target variable to the binned data\n",
    "data_binned[target] = dff[target]\n",
    "\n",
    "# Display the first few rows of the dataframe\n",
    "data_binned"
   ]
  },
  {
   "cell_type": "code",
   "execution_count": 23,
   "id": "d64e5c11",
   "metadata": {},
   "outputs": [],
   "source": [
    "#汇总成一个function\n",
    "def data_bining(dff, target, num_bins=10):\n",
    "    # Define the features\n",
    "    features = [col for col in dff.columns if col != target]\n",
    "\n",
    "    # Initialize an empty dataframe to store the binned data\n",
    "    data_binned = pd.DataFrame()\n",
    "\n",
    "    # Bin the data\n",
    "    for feature in features:\n",
    "        data_binned[feature] = pd.qcut(dff[feature], q=num_bins, duplicates='drop')\n",
    "\n",
    "    # Add the target variable to the binned data\n",
    "    data_binned[target] = dff[target]\n",
    "\n",
    "    return data_binned"
   ]
  },
  {
   "cell_type": "code",
   "execution_count": 25,
   "id": "343c3057",
   "metadata": {},
   "outputs": [],
   "source": [
    "#测试dat_bining function\n",
    "data_binned = data_bining(dff, 'seriousdlqin2yrs',10 )"
   ]
  },
  {
   "cell_type": "code",
   "execution_count": 74,
   "id": "4d733ecd",
   "metadata": {
    "slideshow": {
     "slide_type": "skip"
    }
   },
   "outputs": [],
   "source": [
    "#data_binned.to_csv('data_binned.csv', index = False)"
   ]
  },
  {
   "cell_type": "markdown",
   "id": "26a1f0fd",
   "metadata": {
    "slideshow": {
     "slide_type": "subslide"
    }
   },
   "source": [
    "# Feature selection"
   ]
  },
  {
   "cell_type": "code",
   "execution_count": 84,
   "id": "6bfa8685",
   "metadata": {
    "slideshow": {
     "slide_type": "fragment"
    }
   },
   "outputs": [],
   "source": [
    "# Define a function to calculate WoE and IV\n",
    "def calculate_woe_iv(df, feature):\n",
    "    # Calculate the total number of good and bad outcomes\n",
    "    total_good = df[target].sum()\n",
    "    total_bad = df.shape[0] - total_good\n",
    "\n",
    "    # Calculate the number of good and bad outcomes for each value of the feature\n",
    "    df_feature = df.groupby(feature)[target].agg(['sum', 'count'])\n",
    "    df_feature.columns = ['Good', 'All']\n",
    "    df_feature['Bad'] = df_feature['All'] - df_feature['Good']\n",
    "\n",
    "    # Calculate the proportion of good and bad outcomes for each value of the feature\n",
    "    df_feature['Distribution Good'] = df_feature['Good'] / total_good\n",
    "    df_feature['Distribution Bad'] = df_feature['Bad'] / total_bad\n",
    "\n",
    "    # Calculate the Weight of Evidence (WoE) for each value of the feature\n",
    "    df_feature['WoE'] = np.log(df_feature['Distribution Good'] / df_feature['Distribution Bad'])\n",
    "\n",
    "    # Calculate the Information Value (IV) for the feature\n",
    "    df_feature['IV'] = (df_feature['Distribution Good'] - df_feature['Distribution Bad']) * df_feature['WoE']\n",
    "\n",
    "    # Reset the index\n",
    "    df_feature.reset_index(inplace=True)\n",
    "\n",
    "    # Rename the feature column to 'Value'\n",
    "    df_feature.rename(columns={feature: 'Value'}, inplace=True)\n",
    "\n",
    "    # Add the feature name to the dataframe\n",
    "    df_feature['Variable'] = feature\n",
    "\n",
    "    # Rearrange the columns\n",
    "    df_feature = df_feature[['Variable', 'Value', 'All', 'Good', 'Bad', 'Distribution Good', 'Distribution Bad', 'WoE', 'IV']]\n",
    "\n",
    "    return df_feature"
   ]
  },
  {
   "cell_type": "code",
   "execution_count": 85,
   "id": "88ad2769",
   "metadata": {
    "slideshow": {
     "slide_type": "fragment"
    }
   },
   "outputs": [
    {
     "name": "stderr",
     "output_type": "stream",
     "text": [
      "/var/folders/k7/0dwl2knn34q4_hlbvrsbm2rr0000gn/T/ipykernel_29632/772922214.py:8: FutureWarning: The frame.append method is deprecated and will be removed from pandas in a future version. Use pandas.concat instead.\n",
      "  df_woe_iv = df_woe_iv.append(calculate_woe_iv(data_binned, feature))\n",
      "/var/folders/k7/0dwl2knn34q4_hlbvrsbm2rr0000gn/T/ipykernel_29632/772922214.py:8: FutureWarning: The frame.append method is deprecated and will be removed from pandas in a future version. Use pandas.concat instead.\n",
      "  df_woe_iv = df_woe_iv.append(calculate_woe_iv(data_binned, feature))\n",
      "/var/folders/k7/0dwl2knn34q4_hlbvrsbm2rr0000gn/T/ipykernel_29632/772922214.py:8: FutureWarning: The frame.append method is deprecated and will be removed from pandas in a future version. Use pandas.concat instead.\n",
      "  df_woe_iv = df_woe_iv.append(calculate_woe_iv(data_binned, feature))\n",
      "/var/folders/k7/0dwl2knn34q4_hlbvrsbm2rr0000gn/T/ipykernel_29632/772922214.py:8: FutureWarning: The frame.append method is deprecated and will be removed from pandas in a future version. Use pandas.concat instead.\n",
      "  df_woe_iv = df_woe_iv.append(calculate_woe_iv(data_binned, feature))\n",
      "/var/folders/k7/0dwl2knn34q4_hlbvrsbm2rr0000gn/T/ipykernel_29632/772922214.py:8: FutureWarning: The frame.append method is deprecated and will be removed from pandas in a future version. Use pandas.concat instead.\n",
      "  df_woe_iv = df_woe_iv.append(calculate_woe_iv(data_binned, feature))\n",
      "/var/folders/k7/0dwl2knn34q4_hlbvrsbm2rr0000gn/T/ipykernel_29632/772922214.py:8: FutureWarning: The frame.append method is deprecated and will be removed from pandas in a future version. Use pandas.concat instead.\n",
      "  df_woe_iv = df_woe_iv.append(calculate_woe_iv(data_binned, feature))\n",
      "/var/folders/k7/0dwl2knn34q4_hlbvrsbm2rr0000gn/T/ipykernel_29632/772922214.py:8: FutureWarning: The frame.append method is deprecated and will be removed from pandas in a future version. Use pandas.concat instead.\n",
      "  df_woe_iv = df_woe_iv.append(calculate_woe_iv(data_binned, feature))\n",
      "/var/folders/k7/0dwl2knn34q4_hlbvrsbm2rr0000gn/T/ipykernel_29632/772922214.py:8: FutureWarning: The frame.append method is deprecated and will be removed from pandas in a future version. Use pandas.concat instead.\n",
      "  df_woe_iv = df_woe_iv.append(calculate_woe_iv(data_binned, feature))\n",
      "/var/folders/k7/0dwl2knn34q4_hlbvrsbm2rr0000gn/T/ipykernel_29632/772922214.py:8: FutureWarning: The frame.append method is deprecated and will be removed from pandas in a future version. Use pandas.concat instead.\n",
      "  df_woe_iv = df_woe_iv.append(calculate_woe_iv(data_binned, feature))\n",
      "/var/folders/k7/0dwl2knn34q4_hlbvrsbm2rr0000gn/T/ipykernel_29632/772922214.py:8: FutureWarning: The frame.append method is deprecated and will be removed from pandas in a future version. Use pandas.concat instead.\n",
      "  df_woe_iv = df_woe_iv.append(calculate_woe_iv(data_binned, feature))\n"
     ]
    },
    {
     "data": {
      "text/html": [
       "<div>\n",
       "<style scoped>\n",
       "    .dataframe tbody tr th:only-of-type {\n",
       "        vertical-align: middle;\n",
       "    }\n",
       "\n",
       "    .dataframe tbody tr th {\n",
       "        vertical-align: top;\n",
       "    }\n",
       "\n",
       "    .dataframe thead th {\n",
       "        text-align: right;\n",
       "    }\n",
       "</style>\n",
       "<table border=\"1\" class=\"dataframe\">\n",
       "  <thead>\n",
       "    <tr style=\"text-align: right;\">\n",
       "      <th></th>\n",
       "      <th>Variable</th>\n",
       "      <th>Value</th>\n",
       "      <th>All</th>\n",
       "      <th>Good</th>\n",
       "      <th>Bad</th>\n",
       "      <th>Distribution Good</th>\n",
       "      <th>Distribution Bad</th>\n",
       "      <th>WoE</th>\n",
       "      <th>IV</th>\n",
       "    </tr>\n",
       "  </thead>\n",
       "  <tbody>\n",
       "    <tr>\n",
       "      <th>1</th>\n",
       "      <td>numberoftimes90dayslate</td>\n",
       "      <td>(1.0, 98.0]</td>\n",
       "      <td>5256</td>\n",
       "      <td>4404</td>\n",
       "      <td>852</td>\n",
       "      <td>0.163925</td>\n",
       "      <td>0.009514</td>\n",
       "      <td>2.846685</td>\n",
       "      <td>4.395596e-01</td>\n",
       "    </tr>\n",
       "    <tr>\n",
       "      <th>1</th>\n",
       "      <td>numberoftime30-59dayspastduenotworse</td>\n",
       "      <td>(1.0, 98.0]</td>\n",
       "      <td>10668</td>\n",
       "      <td>6979</td>\n",
       "      <td>3689</td>\n",
       "      <td>0.259771</td>\n",
       "      <td>0.041192</td>\n",
       "      <td>1.841553</td>\n",
       "      <td>4.025241e-01</td>\n",
       "    </tr>\n",
       "    <tr>\n",
       "      <th>8</th>\n",
       "      <td>revolvingutilizationofunsecuredlines</td>\n",
       "      <td>(0.866, 1.0]</td>\n",
       "      <td>18534</td>\n",
       "      <td>9071</td>\n",
       "      <td>9463</td>\n",
       "      <td>0.337639</td>\n",
       "      <td>0.105666</td>\n",
       "      <td>1.161696</td>\n",
       "      <td>2.694819e-01</td>\n",
       "    </tr>\n",
       "    <tr>\n",
       "      <th>9</th>\n",
       "      <td>revolvingutilizationofunsecuredlines</td>\n",
       "      <td>(1.0, 50708.0]</td>\n",
       "      <td>4751</td>\n",
       "      <td>3342</td>\n",
       "      <td>1409</td>\n",
       "      <td>0.124395</td>\n",
       "      <td>0.015733</td>\n",
       "      <td>2.067692</td>\n",
       "      <td>2.246795e-01</td>\n",
       "    </tr>\n",
       "    <tr>\n",
       "      <th>1</th>\n",
       "      <td>revolvingutilizationofunsecuredlines</td>\n",
       "      <td>(0.0062, 0.0291]</td>\n",
       "      <td>11642</td>\n",
       "      <td>668</td>\n",
       "      <td>10974</td>\n",
       "      <td>0.024864</td>\n",
       "      <td>0.122538</td>\n",
       "      <td>-1.594993</td>\n",
       "      <td>1.557889e-01</td>\n",
       "    </tr>\n",
       "    <tr>\n",
       "      <th>...</th>\n",
       "      <td>...</td>\n",
       "      <td>...</td>\n",
       "      <td>...</td>\n",
       "      <td>...</td>\n",
       "      <td>...</td>\n",
       "      <td>...</td>\n",
       "      <td>...</td>\n",
       "      <td>...</td>\n",
       "      <td>...</td>\n",
       "    </tr>\n",
       "    <tr>\n",
       "      <th>1</th>\n",
       "      <td>debtratio</td>\n",
       "      <td>(0.025, 0.111]</td>\n",
       "      <td>11642</td>\n",
       "      <td>2714</td>\n",
       "      <td>8928</td>\n",
       "      <td>0.101020</td>\n",
       "      <td>0.099692</td>\n",
       "      <td>0.013234</td>\n",
       "      <td>1.757524e-05</td>\n",
       "    </tr>\n",
       "    <tr>\n",
       "      <th>6</th>\n",
       "      <td>monthlyincome</td>\n",
       "      <td>(5200.0, 6100.0]</td>\n",
       "      <td>11482</td>\n",
       "      <td>2663</td>\n",
       "      <td>8819</td>\n",
       "      <td>0.099122</td>\n",
       "      <td>0.098475</td>\n",
       "      <td>0.006547</td>\n",
       "      <td>4.235311e-06</td>\n",
       "    </tr>\n",
       "    <tr>\n",
       "      <th>1</th>\n",
       "      <td>numberofopencreditlinesandloans</td>\n",
       "      <td>(11.0, 12.0]</td>\n",
       "      <td>5773</td>\n",
       "      <td>1340</td>\n",
       "      <td>4433</td>\n",
       "      <td>0.049877</td>\n",
       "      <td>0.049500</td>\n",
       "      <td>0.007596</td>\n",
       "      <td>2.866699e-06</td>\n",
       "    </tr>\n",
       "    <tr>\n",
       "      <th>3</th>\n",
       "      <td>numberofopencreditlinesandloans</td>\n",
       "      <td>(15.0, 58.0]</td>\n",
       "      <td>11542</td>\n",
       "      <td>2660</td>\n",
       "      <td>8882</td>\n",
       "      <td>0.099010</td>\n",
       "      <td>0.099178</td>\n",
       "      <td>-0.001698</td>\n",
       "      <td>2.857260e-07</td>\n",
       "    </tr>\n",
       "    <tr>\n",
       "      <th>0</th>\n",
       "      <td>numberoftime60-89dayspastduenotworse</td>\n",
       "      <td>(-0.001, 98.0]</td>\n",
       "      <td>116422</td>\n",
       "      <td>26866</td>\n",
       "      <td>89556</td>\n",
       "      <td>1.000000</td>\n",
       "      <td>1.000000</td>\n",
       "      <td>0.000000</td>\n",
       "      <td>0.000000e+00</td>\n",
       "    </tr>\n",
       "  </tbody>\n",
       "</table>\n",
       "<p>62 rows × 9 columns</p>\n",
       "</div>"
      ],
      "text/plain": [
       "                                Variable             Value     All   Good  \\\n",
       "1                numberoftimes90dayslate       (1.0, 98.0]    5256   4404   \n",
       "1   numberoftime30-59dayspastduenotworse       (1.0, 98.0]   10668   6979   \n",
       "8   revolvingutilizationofunsecuredlines      (0.866, 1.0]   18534   9071   \n",
       "9   revolvingutilizationofunsecuredlines    (1.0, 50708.0]    4751   3342   \n",
       "1   revolvingutilizationofunsecuredlines  (0.0062, 0.0291]   11642    668   \n",
       "..                                   ...               ...     ...    ...   \n",
       "1                              debtratio    (0.025, 0.111]   11642   2714   \n",
       "6                          monthlyincome  (5200.0, 6100.0]   11482   2663   \n",
       "1        numberofopencreditlinesandloans      (11.0, 12.0]    5773   1340   \n",
       "3        numberofopencreditlinesandloans      (15.0, 58.0]   11542   2660   \n",
       "0   numberoftime60-89dayspastduenotworse    (-0.001, 98.0]  116422  26866   \n",
       "\n",
       "      Bad  Distribution Good  Distribution Bad       WoE            IV  \n",
       "1     852           0.163925          0.009514  2.846685  4.395596e-01  \n",
       "1    3689           0.259771          0.041192  1.841553  4.025241e-01  \n",
       "8    9463           0.337639          0.105666  1.161696  2.694819e-01  \n",
       "9    1409           0.124395          0.015733  2.067692  2.246795e-01  \n",
       "1   10974           0.024864          0.122538 -1.594993  1.557889e-01  \n",
       "..    ...                ...               ...       ...           ...  \n",
       "1    8928           0.101020          0.099692  0.013234  1.757524e-05  \n",
       "6    8819           0.099122          0.098475  0.006547  4.235311e-06  \n",
       "1    4433           0.049877          0.049500  0.007596  2.866699e-06  \n",
       "3    8882           0.099010          0.099178 -0.001698  2.857260e-07  \n",
       "0   89556           1.000000          1.000000  0.000000  0.000000e+00  \n",
       "\n",
       "[62 rows x 9 columns]"
      ]
     },
     "execution_count": 85,
     "metadata": {},
     "output_type": "execute_result"
    }
   ],
   "source": [
    "# Initialize an empty dataframe to store the WoE and IV\n",
    "df_woe_iv = pd.DataFrame(columns=['Variable', 'Value', 'All', 'Good', 'Bad', 'Distribution Good', 'Distribution Bad', 'WoE', 'IV'])\n",
    "\n",
    "# Calculate the WoE and IV\n",
    "for feature in features:\n",
    "    # Convert the feature values to string type\n",
    "    data_binned[feature] = data_binned[feature].astype(str)\n",
    "    df_woe_iv = df_woe_iv.append(calculate_woe_iv(data_binned, feature))\n",
    "\n",
    "# Sort the features by IV\n",
    "df_woe_iv = df_woe_iv.sort_values(by='IV', ascending=False)\n",
    "\n",
    "# Display the dataframe\n",
    "df_woe_iv"
   ]
  },
  {
   "cell_type": "code",
   "execution_count": 89,
   "id": "b596f8f8",
   "metadata": {
    "slideshow": {
     "slide_type": "fragment"
    }
   },
   "outputs": [
    {
     "data": {
      "text/html": [
       "<div>\n",
       "<style scoped>\n",
       "    .dataframe tbody tr th:only-of-type {\n",
       "        vertical-align: middle;\n",
       "    }\n",
       "\n",
       "    .dataframe tbody tr th {\n",
       "        vertical-align: top;\n",
       "    }\n",
       "\n",
       "    .dataframe thead th {\n",
       "        text-align: right;\n",
       "    }\n",
       "</style>\n",
       "<table border=\"1\" class=\"dataframe\">\n",
       "  <thead>\n",
       "    <tr style=\"text-align: right;\">\n",
       "      <th></th>\n",
       "      <th>Variable</th>\n",
       "      <th>Value</th>\n",
       "      <th>All</th>\n",
       "      <th>Good</th>\n",
       "      <th>Bad</th>\n",
       "      <th>Distribution Good</th>\n",
       "      <th>Distribution Bad</th>\n",
       "      <th>WoE</th>\n",
       "      <th>IV</th>\n",
       "    </tr>\n",
       "  </thead>\n",
       "  <tbody>\n",
       "    <tr>\n",
       "      <th>1</th>\n",
       "      <td>numberoftimes90dayslate</td>\n",
       "      <td>(1.0, 98.0]</td>\n",
       "      <td>5256</td>\n",
       "      <td>4404</td>\n",
       "      <td>852</td>\n",
       "      <td>0.163925</td>\n",
       "      <td>0.009514</td>\n",
       "      <td>2.846685</td>\n",
       "      <td>0.439560</td>\n",
       "    </tr>\n",
       "    <tr>\n",
       "      <th>1</th>\n",
       "      <td>numberoftime30-59dayspastduenotworse</td>\n",
       "      <td>(1.0, 98.0]</td>\n",
       "      <td>10668</td>\n",
       "      <td>6979</td>\n",
       "      <td>3689</td>\n",
       "      <td>0.259771</td>\n",
       "      <td>0.041192</td>\n",
       "      <td>1.841553</td>\n",
       "      <td>0.402524</td>\n",
       "    </tr>\n",
       "    <tr>\n",
       "      <th>8</th>\n",
       "      <td>revolvingutilizationofunsecuredlines</td>\n",
       "      <td>(0.866, 1.0]</td>\n",
       "      <td>18534</td>\n",
       "      <td>9071</td>\n",
       "      <td>9463</td>\n",
       "      <td>0.337639</td>\n",
       "      <td>0.105666</td>\n",
       "      <td>1.161696</td>\n",
       "      <td>0.269482</td>\n",
       "    </tr>\n",
       "    <tr>\n",
       "      <th>9</th>\n",
       "      <td>revolvingutilizationofunsecuredlines</td>\n",
       "      <td>(1.0, 50708.0]</td>\n",
       "      <td>4751</td>\n",
       "      <td>3342</td>\n",
       "      <td>1409</td>\n",
       "      <td>0.124395</td>\n",
       "      <td>0.015733</td>\n",
       "      <td>2.067692</td>\n",
       "      <td>0.224679</td>\n",
       "    </tr>\n",
       "    <tr>\n",
       "      <th>1</th>\n",
       "      <td>revolvingutilizationofunsecuredlines</td>\n",
       "      <td>(0.0062, 0.0291]</td>\n",
       "      <td>11642</td>\n",
       "      <td>668</td>\n",
       "      <td>10974</td>\n",
       "      <td>0.024864</td>\n",
       "      <td>0.122538</td>\n",
       "      <td>-1.594993</td>\n",
       "      <td>0.155789</td>\n",
       "    </tr>\n",
       "    <tr>\n",
       "      <th>2</th>\n",
       "      <td>revolvingutilizationofunsecuredlines</td>\n",
       "      <td>(0.0291, 0.0669]</td>\n",
       "      <td>11642</td>\n",
       "      <td>828</td>\n",
       "      <td>10814</td>\n",
       "      <td>0.030820</td>\n",
       "      <td>0.120751</td>\n",
       "      <td>-1.365581</td>\n",
       "      <td>0.122809</td>\n",
       "    </tr>\n",
       "    <tr>\n",
       "      <th>3</th>\n",
       "      <td>revolvingutilizationofunsecuredlines</td>\n",
       "      <td>(0.0669, 0.137]</td>\n",
       "      <td>11643</td>\n",
       "      <td>1035</td>\n",
       "      <td>10608</td>\n",
       "      <td>0.038525</td>\n",
       "      <td>0.118451</td>\n",
       "      <td>-1.123204</td>\n",
       "      <td>0.089774</td>\n",
       "    </tr>\n",
       "    <tr>\n",
       "      <th>0</th>\n",
       "      <td>revolvingutilizationofunsecuredlines</td>\n",
       "      <td>(-0.001, 0.0062]</td>\n",
       "      <td>11643</td>\n",
       "      <td>1142</td>\n",
       "      <td>10501</td>\n",
       "      <td>0.042507</td>\n",
       "      <td>0.117256</td>\n",
       "      <td>-1.014687</td>\n",
       "      <td>0.075847</td>\n",
       "    </tr>\n",
       "    <tr>\n",
       "      <th>9</th>\n",
       "      <td>age</td>\n",
       "      <td>(70.0, 103.0]</td>\n",
       "      <td>10567</td>\n",
       "      <td>1031</td>\n",
       "      <td>9536</td>\n",
       "      <td>0.038376</td>\n",
       "      <td>0.106481</td>\n",
       "      <td>-1.020542</td>\n",
       "      <td>0.069504</td>\n",
       "    </tr>\n",
       "    <tr>\n",
       "      <th>0</th>\n",
       "      <td>numberoftime30-59dayspastduenotworse</td>\n",
       "      <td>(-0.001, 1.0]</td>\n",
       "      <td>105754</td>\n",
       "      <td>19887</td>\n",
       "      <td>85867</td>\n",
       "      <td>0.740229</td>\n",
       "      <td>0.958808</td>\n",
       "      <td>-0.258731</td>\n",
       "      <td>0.056553</td>\n",
       "    </tr>\n",
       "    <tr>\n",
       "      <th>7</th>\n",
       "      <td>revolvingutilizationofunsecuredlines</td>\n",
       "      <td>(0.625, 0.866]</td>\n",
       "      <td>11641</td>\n",
       "      <td>4330</td>\n",
       "      <td>7311</td>\n",
       "      <td>0.161170</td>\n",
       "      <td>0.081636</td>\n",
       "      <td>0.680190</td>\n",
       "      <td>0.054098</td>\n",
       "    </tr>\n",
       "    <tr>\n",
       "      <th>8</th>\n",
       "      <td>age</td>\n",
       "      <td>(63.0, 70.0]</td>\n",
       "      <td>10699</td>\n",
       "      <td>1263</td>\n",
       "      <td>9436</td>\n",
       "      <td>0.047011</td>\n",
       "      <td>0.105364</td>\n",
       "      <td>-0.807040</td>\n",
       "      <td>0.047093</td>\n",
       "    </tr>\n",
       "    <tr>\n",
       "      <th>0</th>\n",
       "      <td>numberofopencreditlinesandloans</td>\n",
       "      <td>(-0.001, 3.0]</td>\n",
       "      <td>16332</td>\n",
       "      <td>5410</td>\n",
       "      <td>10922</td>\n",
       "      <td>0.201370</td>\n",
       "      <td>0.121957</td>\n",
       "      <td>0.501473</td>\n",
       "      <td>0.039823</td>\n",
       "    </tr>\n",
       "    <tr>\n",
       "      <th>4</th>\n",
       "      <td>revolvingutilizationofunsecuredlines</td>\n",
       "      <td>(0.137, 0.252]</td>\n",
       "      <td>11641</td>\n",
       "      <td>1548</td>\n",
       "      <td>10093</td>\n",
       "      <td>0.057619</td>\n",
       "      <td>0.112700</td>\n",
       "      <td>-0.670876</td>\n",
       "      <td>0.036953</td>\n",
       "    </tr>\n",
       "    <tr>\n",
       "      <th>0</th>\n",
       "      <td>age</td>\n",
       "      <td>(-0.001, 31.0]</td>\n",
       "      <td>11652</td>\n",
       "      <td>3906</td>\n",
       "      <td>7746</td>\n",
       "      <td>0.145388</td>\n",
       "      <td>0.086493</td>\n",
       "      <td>0.519340</td>\n",
       "      <td>0.030586</td>\n",
       "    </tr>\n",
       "    <tr>\n",
       "      <th>9</th>\n",
       "      <td>debtratio</td>\n",
       "      <td>(0.803, 61106.5]</td>\n",
       "      <td>11643</td>\n",
       "      <td>3821</td>\n",
       "      <td>7822</td>\n",
       "      <td>0.142224</td>\n",
       "      <td>0.087342</td>\n",
       "      <td>0.487574</td>\n",
       "      <td>0.026759</td>\n",
       "    </tr>\n",
       "    <tr>\n",
       "      <th>0</th>\n",
       "      <td>numberoftimes90dayslate</td>\n",
       "      <td>(-0.001, 1.0]</td>\n",
       "      <td>111166</td>\n",
       "      <td>22462</td>\n",
       "      <td>88704</td>\n",
       "      <td>0.836075</td>\n",
       "      <td>0.990486</td>\n",
       "      <td>-0.169477</td>\n",
       "      <td>0.026169</td>\n",
       "    </tr>\n",
       "    <tr>\n",
       "      <th>9</th>\n",
       "      <td>monthlyincome</td>\n",
       "      <td>(8881.0, 11362.9]</td>\n",
       "      <td>11641</td>\n",
       "      <td>1837</td>\n",
       "      <td>9804</td>\n",
       "      <td>0.068376</td>\n",
       "      <td>0.109473</td>\n",
       "      <td>-0.470654</td>\n",
       "      <td>0.019342</td>\n",
       "    </tr>\n",
       "    <tr>\n",
       "      <th>1</th>\n",
       "      <td>monthlyincome</td>\n",
       "      <td>(11362.9, 3008750.0]</td>\n",
       "      <td>11643</td>\n",
       "      <td>1841</td>\n",
       "      <td>9802</td>\n",
       "      <td>0.068525</td>\n",
       "      <td>0.109451</td>\n",
       "      <td>-0.468275</td>\n",
       "      <td>0.019165</td>\n",
       "    </tr>\n",
       "    <tr>\n",
       "      <th>1</th>\n",
       "      <td>age</td>\n",
       "      <td>(31.0, 37.0]</td>\n",
       "      <td>12186</td>\n",
       "      <td>3737</td>\n",
       "      <td>8449</td>\n",
       "      <td>0.139098</td>\n",
       "      <td>0.094343</td>\n",
       "      <td>0.388238</td>\n",
       "      <td>0.017375</td>\n",
       "    </tr>\n",
       "  </tbody>\n",
       "</table>\n",
       "</div>"
      ],
      "text/plain": [
       "                               Variable                 Value     All   Good  \\\n",
       "1               numberoftimes90dayslate           (1.0, 98.0]    5256   4404   \n",
       "1  numberoftime30-59dayspastduenotworse           (1.0, 98.0]   10668   6979   \n",
       "8  revolvingutilizationofunsecuredlines          (0.866, 1.0]   18534   9071   \n",
       "9  revolvingutilizationofunsecuredlines        (1.0, 50708.0]    4751   3342   \n",
       "1  revolvingutilizationofunsecuredlines      (0.0062, 0.0291]   11642    668   \n",
       "2  revolvingutilizationofunsecuredlines      (0.0291, 0.0669]   11642    828   \n",
       "3  revolvingutilizationofunsecuredlines       (0.0669, 0.137]   11643   1035   \n",
       "0  revolvingutilizationofunsecuredlines      (-0.001, 0.0062]   11643   1142   \n",
       "9                                   age         (70.0, 103.0]   10567   1031   \n",
       "0  numberoftime30-59dayspastduenotworse         (-0.001, 1.0]  105754  19887   \n",
       "7  revolvingutilizationofunsecuredlines        (0.625, 0.866]   11641   4330   \n",
       "8                                   age          (63.0, 70.0]   10699   1263   \n",
       "0       numberofopencreditlinesandloans         (-0.001, 3.0]   16332   5410   \n",
       "4  revolvingutilizationofunsecuredlines        (0.137, 0.252]   11641   1548   \n",
       "0                                   age        (-0.001, 31.0]   11652   3906   \n",
       "9                             debtratio      (0.803, 61106.5]   11643   3821   \n",
       "0               numberoftimes90dayslate         (-0.001, 1.0]  111166  22462   \n",
       "9                         monthlyincome     (8881.0, 11362.9]   11641   1837   \n",
       "1                         monthlyincome  (11362.9, 3008750.0]   11643   1841   \n",
       "1                                   age          (31.0, 37.0]   12186   3737   \n",
       "\n",
       "     Bad  Distribution Good  Distribution Bad       WoE        IV  \n",
       "1    852           0.163925          0.009514  2.846685  0.439560  \n",
       "1   3689           0.259771          0.041192  1.841553  0.402524  \n",
       "8   9463           0.337639          0.105666  1.161696  0.269482  \n",
       "9   1409           0.124395          0.015733  2.067692  0.224679  \n",
       "1  10974           0.024864          0.122538 -1.594993  0.155789  \n",
       "2  10814           0.030820          0.120751 -1.365581  0.122809  \n",
       "3  10608           0.038525          0.118451 -1.123204  0.089774  \n",
       "0  10501           0.042507          0.117256 -1.014687  0.075847  \n",
       "9   9536           0.038376          0.106481 -1.020542  0.069504  \n",
       "0  85867           0.740229          0.958808 -0.258731  0.056553  \n",
       "7   7311           0.161170          0.081636  0.680190  0.054098  \n",
       "8   9436           0.047011          0.105364 -0.807040  0.047093  \n",
       "0  10922           0.201370          0.121957  0.501473  0.039823  \n",
       "4  10093           0.057619          0.112700 -0.670876  0.036953  \n",
       "0   7746           0.145388          0.086493  0.519340  0.030586  \n",
       "9   7822           0.142224          0.087342  0.487574  0.026759  \n",
       "0  88704           0.836075          0.990486 -0.169477  0.026169  \n",
       "9   9804           0.068376          0.109473 -0.470654  0.019342  \n",
       "1   9802           0.068525          0.109451 -0.468275  0.019165  \n",
       "1   8449           0.139098          0.094343  0.388238  0.017375  "
      ]
     },
     "execution_count": 89,
     "metadata": {},
     "output_type": "execute_result"
    }
   ],
   "source": [
    "# Sort the features by IV\n",
    "df_woe_iv = df_woe_iv.sort_values(by='IV', ascending=False)\n",
    "df_woe_iv[:20]"
   ]
  },
  {
   "cell_type": "markdown",
   "id": "49afdfac",
   "metadata": {
    "slideshow": {
     "slide_type": "fragment"
    }
   },
   "source": [
    "the revolvingutilizationofunsecuredlines feature appears multiple times because it has different IV values for different binned brackets."
   ]
  },
  {
   "cell_type": "code",
   "execution_count": 90,
   "id": "17ed670f",
   "metadata": {
    "slideshow": {
     "slide_type": "subslide"
    }
   },
   "outputs": [
    {
     "data": {
      "text/html": [
       "<div>\n",
       "<style scoped>\n",
       "    .dataframe tbody tr th:only-of-type {\n",
       "        vertical-align: middle;\n",
       "    }\n",
       "\n",
       "    .dataframe tbody tr th {\n",
       "        vertical-align: top;\n",
       "    }\n",
       "\n",
       "    .dataframe thead th {\n",
       "        text-align: right;\n",
       "    }\n",
       "</style>\n",
       "<table border=\"1\" class=\"dataframe\">\n",
       "  <thead>\n",
       "    <tr style=\"text-align: right;\">\n",
       "      <th></th>\n",
       "      <th>Variable</th>\n",
       "      <th>IV</th>\n",
       "    </tr>\n",
       "  </thead>\n",
       "  <tbody>\n",
       "    <tr>\n",
       "      <th>9</th>\n",
       "      <td>revolvingutilizationofunsecuredlines</td>\n",
       "      <td>1.045381</td>\n",
       "    </tr>\n",
       "    <tr>\n",
       "      <th>7</th>\n",
       "      <td>numberoftimes90dayslate</td>\n",
       "      <td>0.465729</td>\n",
       "    </tr>\n",
       "    <tr>\n",
       "      <th>5</th>\n",
       "      <td>numberoftime30-59dayspastduenotworse</td>\n",
       "      <td>0.459077</td>\n",
       "    </tr>\n",
       "    <tr>\n",
       "      <th>0</th>\n",
       "      <td>age</td>\n",
       "      <td>0.195285</td>\n",
       "    </tr>\n",
       "    <tr>\n",
       "      <th>2</th>\n",
       "      <td>monthlyincome</td>\n",
       "      <td>0.080517</td>\n",
       "    </tr>\n",
       "    <tr>\n",
       "      <th>1</th>\n",
       "      <td>debtratio</td>\n",
       "      <td>0.069999</td>\n",
       "    </tr>\n",
       "    <tr>\n",
       "      <th>4</th>\n",
       "      <td>numberofopencreditlinesandloans</td>\n",
       "      <td>0.055694</td>\n",
       "    </tr>\n",
       "    <tr>\n",
       "      <th>3</th>\n",
       "      <td>numberofdependents</td>\n",
       "      <td>0.023525</td>\n",
       "    </tr>\n",
       "    <tr>\n",
       "      <th>8</th>\n",
       "      <td>numberrealestateloansorlines</td>\n",
       "      <td>0.016927</td>\n",
       "    </tr>\n",
       "    <tr>\n",
       "      <th>6</th>\n",
       "      <td>numberoftime60-89dayspastduenotworse</td>\n",
       "      <td>0.000000</td>\n",
       "    </tr>\n",
       "  </tbody>\n",
       "</table>\n",
       "</div>"
      ],
      "text/plain": [
       "                               Variable        IV\n",
       "9  revolvingutilizationofunsecuredlines  1.045381\n",
       "7               numberoftimes90dayslate  0.465729\n",
       "5  numberoftime30-59dayspastduenotworse  0.459077\n",
       "0                                   age  0.195285\n",
       "2                         monthlyincome  0.080517\n",
       "1                             debtratio  0.069999\n",
       "4       numberofopencreditlinesandloans  0.055694\n",
       "3                    numberofdependents  0.023525\n",
       "8          numberrealestateloansorlines  0.016927\n",
       "6  numberoftime60-89dayspastduenotworse  0.000000"
      ]
     },
     "execution_count": 90,
     "metadata": {},
     "output_type": "execute_result"
    }
   ],
   "source": [
    "# Group by 'Variable' and calculate the sum of 'IV' for each variable\n",
    "df_woe_iv_sum = df_woe_iv.groupby('Variable')['IV'].sum().reset_index()\n",
    "\n",
    "# Sort the variables by 'IV'\n",
    "df_woe_iv_sum = df_woe_iv_sum.sort_values(by='IV', ascending=False)\n",
    "\n",
    "# Display the top 10 variables\n",
    "df_woe_iv_sum.head(10)"
   ]
  },
  {
   "cell_type": "code",
   "execution_count": 33,
   "id": "dd15f601",
   "metadata": {},
   "outputs": [],
   "source": [
    "#汇总成一个function，feature_select_woe_iv\n",
    "def feature_select_woe_iv(data_binned, target, features):\n",
    "    # Define a function to calculate WoE and IV\n",
    "    def calculate_woe_iv(df, feature):\n",
    "        # Calculate the total number of good and bad outcomes\n",
    "        total_good = df[target].sum()\n",
    "        total_bad = df.shape[0] - total_good\n",
    "\n",
    "        # Calculate the number of good and bad outcomes for each value of the feature\n",
    "        df_feature = df.groupby(feature)[target].agg(['sum', 'count'])\n",
    "        df_feature.columns = ['Good', 'All']\n",
    "        df_feature['Bad'] = df_feature['All'] - df_feature['Good']\n",
    "\n",
    "        # Calculate the proportion of good and bad outcomes for each value of the feature\n",
    "        df_feature['Distribution Good'] = df_feature['Good'] / total_good\n",
    "        df_feature['Distribution Bad'] = df_feature['Bad'] / total_bad\n",
    "\n",
    "        # Calculate the Weight of Evidence (WoE) for each value of the feature\n",
    "        df_feature['WoE'] = np.log(df_feature['Distribution Good'] / df_feature['Distribution Bad'])\n",
    "\n",
    "        # Calculate the Information Value (IV) for the feature\n",
    "        df_feature['IV'] = (df_feature['Distribution Good'] - df_feature['Distribution Bad']) * df_feature['WoE']\n",
    "\n",
    "        # Reset the index\n",
    "        df_feature.reset_index(inplace=True)\n",
    "\n",
    "        # Rename the feature column to 'Value'\n",
    "        df_feature.rename(columns={feature: 'Value'}, inplace=True)\n",
    "\n",
    "        # Add the feature name to the dataframe\n",
    "        df_feature['Variable'] = feature\n",
    "\n",
    "        # Rearrange the columns\n",
    "        df_feature = df_feature[['Variable', 'Value', 'All', 'Good', 'Bad', 'Distribution Good', 'Distribution Bad', 'WoE', 'IV']]\n",
    "\n",
    "        return df_feature\n",
    "\n",
    "    # Initialize an empty dataframe to store the WoE and IV\n",
    "    df_woe_iv = pd.DataFrame(columns=['Variable', 'Value', 'All', 'Good', 'Bad', 'Distribution Good', 'Distribution Bad', 'WoE', 'IV'])\n",
    "\n",
    "    # Calculate the WoE and IV\n",
    "    for feature in features:\n",
    "        # Convert the feature values to string type\n",
    "        data_binned[feature] = data_binned[feature].astype(str)\n",
    "        df_woe_iv = df_woe_iv.append(calculate_woe_iv(data_binned, feature))\n",
    "\n",
    "    # Sort the features by IV\n",
    "    df_woe_iv = df_woe_iv.sort_values(by='IV', ascending=False)\n",
    "\n",
    "    # Group by 'Variable' and calculate the sum of 'IV' for each variable\n",
    "    df_woe_iv_sum = df_woe_iv.groupby('Variable')['IV'].sum().reset_index()\n",
    "\n",
    "    # Sort the variables by 'IV'\n",
    "    df_woe_iv_sum = df_woe_iv_sum.sort_values(by='IV', ascending=False)\n",
    "\n",
    "    return df_woe_iv, df_woe_iv_sum\n"
   ]
  },
  {
   "cell_type": "code",
   "execution_count": 34,
   "id": "8925ec71",
   "metadata": {},
   "outputs": [],
   "source": [
    "#测试feature_select_woe_iv\n",
    "target = 'seriousdlqin2yrs'\n",
    "features = [col for col in dff.columns if col != target]"
   ]
  },
  {
   "cell_type": "code",
   "execution_count": 37,
   "id": "dc83694f",
   "metadata": {},
   "outputs": [
    {
     "name": "stderr",
     "output_type": "stream",
     "text": [
      "/var/folders/k7/0dwl2knn34q4_hlbvrsbm2rr0000gn/T/ipykernel_54581/74384854.py:45: FutureWarning: The frame.append method is deprecated and will be removed from pandas in a future version. Use pandas.concat instead.\n",
      "  df_woe_iv = df_woe_iv.append(calculate_woe_iv(data_binned, feature))\n",
      "/var/folders/k7/0dwl2knn34q4_hlbvrsbm2rr0000gn/T/ipykernel_54581/74384854.py:45: FutureWarning: The frame.append method is deprecated and will be removed from pandas in a future version. Use pandas.concat instead.\n",
      "  df_woe_iv = df_woe_iv.append(calculate_woe_iv(data_binned, feature))\n",
      "/var/folders/k7/0dwl2knn34q4_hlbvrsbm2rr0000gn/T/ipykernel_54581/74384854.py:45: FutureWarning: The frame.append method is deprecated and will be removed from pandas in a future version. Use pandas.concat instead.\n",
      "  df_woe_iv = df_woe_iv.append(calculate_woe_iv(data_binned, feature))\n",
      "/var/folders/k7/0dwl2knn34q4_hlbvrsbm2rr0000gn/T/ipykernel_54581/74384854.py:45: FutureWarning: The frame.append method is deprecated and will be removed from pandas in a future version. Use pandas.concat instead.\n",
      "  df_woe_iv = df_woe_iv.append(calculate_woe_iv(data_binned, feature))\n",
      "/var/folders/k7/0dwl2knn34q4_hlbvrsbm2rr0000gn/T/ipykernel_54581/74384854.py:45: FutureWarning: The frame.append method is deprecated and will be removed from pandas in a future version. Use pandas.concat instead.\n",
      "  df_woe_iv = df_woe_iv.append(calculate_woe_iv(data_binned, feature))\n",
      "/var/folders/k7/0dwl2knn34q4_hlbvrsbm2rr0000gn/T/ipykernel_54581/74384854.py:45: FutureWarning: The frame.append method is deprecated and will be removed from pandas in a future version. Use pandas.concat instead.\n",
      "  df_woe_iv = df_woe_iv.append(calculate_woe_iv(data_binned, feature))\n",
      "/var/folders/k7/0dwl2knn34q4_hlbvrsbm2rr0000gn/T/ipykernel_54581/74384854.py:45: FutureWarning: The frame.append method is deprecated and will be removed from pandas in a future version. Use pandas.concat instead.\n",
      "  df_woe_iv = df_woe_iv.append(calculate_woe_iv(data_binned, feature))\n",
      "/var/folders/k7/0dwl2knn34q4_hlbvrsbm2rr0000gn/T/ipykernel_54581/74384854.py:45: FutureWarning: The frame.append method is deprecated and will be removed from pandas in a future version. Use pandas.concat instead.\n",
      "  df_woe_iv = df_woe_iv.append(calculate_woe_iv(data_binned, feature))\n",
      "/var/folders/k7/0dwl2knn34q4_hlbvrsbm2rr0000gn/T/ipykernel_54581/74384854.py:45: FutureWarning: The frame.append method is deprecated and will be removed from pandas in a future version. Use pandas.concat instead.\n",
      "  df_woe_iv = df_woe_iv.append(calculate_woe_iv(data_binned, feature))\n",
      "/var/folders/k7/0dwl2knn34q4_hlbvrsbm2rr0000gn/T/ipykernel_54581/74384854.py:45: FutureWarning: The frame.append method is deprecated and will be removed from pandas in a future version. Use pandas.concat instead.\n",
      "  df_woe_iv = df_woe_iv.append(calculate_woe_iv(data_binned, feature))\n",
      "/var/folders/k7/0dwl2knn34q4_hlbvrsbm2rr0000gn/T/ipykernel_54581/74384854.py:45: FutureWarning: The frame.append method is deprecated and will be removed from pandas in a future version. Use pandas.concat instead.\n",
      "  df_woe_iv = df_woe_iv.append(calculate_woe_iv(data_binned, feature))\n"
     ]
    }
   ],
   "source": [
    "selected_features = feature_select_woe_iv(data_binned, target, features)[1]"
   ]
  },
  {
   "cell_type": "markdown",
   "id": "617cb3e4",
   "metadata": {
    "slideshow": {
     "slide_type": "subslide"
    }
   },
   "source": [
    "# Logistic regression"
   ]
  },
  {
   "cell_type": "markdown",
   "id": "42a6385c",
   "metadata": {
    "slideshow": {
     "slide_type": "fragment"
    }
   },
   "source": [
    "The feature values in the binned data are represented as bin ranges in string format, like '(0.252, 0.414]'. However, the logistic regression model requires the feature values to be numerical.\n",
    "\n",
    "- To solve this issue, we can replace the bin ranges with their midpoints. The midpoint of a bin range is the average of its lower and upper bounds, which can be calculated as (lower_bound + upper_bound) / 2"
   ]
  },
  {
   "cell_type": "code",
   "execution_count": 91,
   "id": "a1129045",
   "metadata": {
    "slideshow": {
     "slide_type": "fragment"
    }
   },
   "outputs": [],
   "source": [
    "# Define a function to calculate the midpoint of a bin range\n",
    "def calculate_midpoint(bin_range):\n",
    "    # Split the bin range into lower and upper bounds\n",
    "    bounds = bin_range.strip('()[]').split(', ')\n",
    "    lower_bound = float(bounds[0])\n",
    "    upper_bound = float(bounds[1])\n",
    "    # Calculate the midpoint\n",
    "    midpoint = (lower_bound + upper_bound) / 2\n",
    "    return midpoint"
   ]
  },
  {
   "cell_type": "code",
   "execution_count": 93,
   "id": "f3b9a682",
   "metadata": {
    "slideshow": {
     "slide_type": "fragment"
    }
   },
   "outputs": [],
   "source": [
    "# Import the necessary libraries\n",
    "from sklearn.linear_model import LogisticRegression\n",
    "from sklearn.model_selection import train_test_split\n",
    "from sklearn.metrics import roc_auc_score\n",
    "\n",
    "# Define the selected features\n",
    "selected_features = df_woe_iv_sum['Variable'].head(10).tolist()\n",
    "\n",
    "# Define the target variable\n",
    "target = 'seriousdlqin2yrs'"
   ]
  },
  {
   "cell_type": "code",
   "execution_count": 94,
   "id": "e8743db5",
   "metadata": {
    "slideshow": {
     "slide_type": "fragment"
    }
   },
   "outputs": [],
   "source": [
    "# Replace the bin ranges with their midpoints\n",
    "for feature in selected_features:\n",
    "    data_binned[feature] = data_binned[feature].apply(calculate_midpoint)"
   ]
  },
  {
   "cell_type": "code",
   "execution_count": 95,
   "id": "58a1807d",
   "metadata": {
    "slideshow": {
     "slide_type": "fragment"
    }
   },
   "outputs": [],
   "source": [
    "# Split the data into training and test sets\n",
    "X_train, X_test, y_train, y_test = train_test_split(data_binned[selected_features], data_binned[target], test_size=0.2, random_state=42)"
   ]
  },
  {
   "cell_type": "code",
   "execution_count": 107,
   "id": "05ae5693",
   "metadata": {
    "slideshow": {
     "slide_type": "skip"
    }
   },
   "outputs": [
    {
     "data": {
      "text/plain": [
       "(23285, 10)"
      ]
     },
     "execution_count": 107,
     "metadata": {},
     "output_type": "execute_result"
    }
   ],
   "source": [
    "X_test.shape"
   ]
  },
  {
   "cell_type": "code",
   "execution_count": 119,
   "id": "756a8e5c",
   "metadata": {
    "slideshow": {
     "slide_type": "fragment"
    }
   },
   "outputs": [
    {
     "name": "stdout",
     "output_type": "stream",
     "text": [
      "ROC-AUC score: 0.749196201050401\n"
     ]
    }
   ],
   "source": [
    "# Initialize the logistic regression model\n",
    "logreg = LogisticRegression()\n",
    "\n",
    "# Fit the model to the training data\n",
    "logreg.fit(X_train, y_train)\n",
    "\n",
    "# Predict the probabilities of delinquency for the test data\n",
    "y_pred_proba = logreg.predict_proba(X_test)[:, 1]\n",
    "\n",
    "# Calculate the ROC-AUC score\n",
    "roc_auc = roc_auc_score(y_test, y_pred_proba)\n",
    "\n",
    "# Print the ROC-AUC score\n",
    "print('ROC-AUC score:', roc_auc)"
   ]
  },
  {
   "cell_type": "markdown",
   "id": "6aa24eaf",
   "metadata": {},
   "source": [
    "# Random Forest Model"
   ]
  },
  {
   "cell_type": "code",
   "execution_count": 113,
   "id": "5d26f9af",
   "metadata": {},
   "outputs": [],
   "source": [
    "from sklearn.metrics import accuracy_score, auc, balanced_accuracy_score, confusion_matrix, f1_score, precision_score, average_precision_score, roc_auc_score,  recall_score,  precision_recall_curve #some scoring functions\n",
    "\n",
    "from sklearn.linear_model import LogisticRegression\n",
    "from sklearn.ensemble import RandomForestClassifier, IsolationForest, RandomForestClassifier # Some classifiers\n",
    "from sklearn.model_selection import cross_val_score, cross_val_predict, cross_validate, train_test_split #Cross validation tools, and a train/test split utility\n",
    "from sklearn.model_selection import GridSearchCV, RandomizedSearchCV #Hyper parameter search tools\n",
    "from hyperopt import hp, tpe, STATUS_OK, fmin, Trials #Hyperparameter search using a loss function "
   ]
  },
  {
   "cell_type": "code",
   "execution_count": 114,
   "id": "dfcaba96",
   "metadata": {},
   "outputs": [
    {
     "data": {
      "text/plain": [
       "RandomForestClassifier()"
      ]
     },
     "execution_count": 114,
     "metadata": {},
     "output_type": "execute_result"
    }
   ],
   "source": [
    "clf = RandomForestClassifier()\n",
    "clf.fit(X_train, y_train.values.ravel())"
   ]
  },
  {
   "cell_type": "code",
   "execution_count": 115,
   "id": "63680f76",
   "metadata": {},
   "outputs": [],
   "source": [
    "y_pred = clf.predict(X_test) "
   ]
  },
  {
   "cell_type": "code",
   "execution_count": 116,
   "id": "03eb60a7",
   "metadata": {},
   "outputs": [
    {
     "data": {
      "text/plain": [
       "array([[17011,   993],\n",
       "       [  464,  4817]])"
      ]
     },
     "execution_count": 116,
     "metadata": {},
     "output_type": "execute_result"
    }
   ],
   "source": [
    "confusion_matrix(y_test, y_pred) #TN = 17011, TP = 4817, which are the instances where the model is correctly predict"
   ]
  },
  {
   "cell_type": "code",
   "execution_count": 117,
   "id": "af16d5f8",
   "metadata": {},
   "outputs": [
    {
     "name": "stdout",
     "output_type": "stream",
     "text": [
      "Accuracy  :0.94\n",
      "Balanced  :0.93\n",
      "F1        :0.87\n",
      "Precision :0.83\n",
      "Recall    :0.91\n",
      "roc auc   :0.93\n",
      "pr)auc    :0.78\n"
     ]
    }
   ],
   "source": [
    "def print_scores(y_t, y_p):\n",
    "    print(f'Accuracy  :{accuracy_score(y_t, y_p):.2f}' )\n",
    "    print(f'Balanced  :{balanced_accuracy_score(y_t, y_p):.2f}' )\n",
    "    print(f'F1        :{f1_score(y_t, y_p):.2f}' )\n",
    "    print(f'Precision :{precision_score(y_t, y_p):.2f}' )\n",
    "    print(f'Recall    :{recall_score(y_t, y_p):.2f}' )\n",
    "    print(f'roc auc   :{roc_auc_score(y_t, y_p):.2f}' )\n",
    "    print(f'pr)auc    :{average_precision_score(y_t, y_p):.2f}' )\n",
    "print_scores(y_test, y_pred)"
   ]
  },
  {
   "cell_type": "markdown",
   "id": "2c3a2dd7",
   "metadata": {
    "slideshow": {
     "slide_type": "subslide"
    }
   },
   "source": [
    "# Fine-tune hyperparameters"
   ]
  },
  {
   "cell_type": "code",
   "execution_count": 97,
   "id": "8ab3c788",
   "metadata": {
    "slideshow": {
     "slide_type": "skip"
    }
   },
   "outputs": [],
   "source": [
    "# Import the necessary libraries\n",
    "from sklearn.model_selection import GridSearchCV"
   ]
  },
  {
   "cell_type": "markdown",
   "id": "f99cbf3b",
   "metadata": {
    "slideshow": {
     "slide_type": "fragment"
    }
   },
   "source": [
    "Logic behind grid search:\n",
    "- penalty is a regularization term added to the loss function that shrinks model parameters to prevent overfitting. The possible values are 'l1', 'l2', 'elasticnet', and 'none'.\n",
    "\n",
    "- C is the inverse of regularization strength. Smaller values specify stronger regularization. The possible values are 0.001, 0.01, 0.1, 1, 10, 100, and 1000.\n",
    "\n",
    "- solver is the algorithm to use in the optimization problem. The possible values are 'newton-cg', 'lbfgs', 'liblinear', 'sag', and 'saga'.\n",
    "\n",
    "logistic regression model for each combination of penalty, C, and solver.\n",
    "\n",
    "Each model is evaluated using 5-fold cross-validation, which means the data is split into 5 subsets, the model is trained on 4 subsets and tested on the remaining subset, and this process is repeated 5 times so that each subset is used for testing once.\n",
    "\n",
    "The performance metric is ROC-AUC score, which measures the ability of the model to distinguish between the positive and negative classes.\n",
    "\n",
    "The combination of hyperparameters that gives the highest ROC-AUC score is selected as the best parameters."
   ]
  },
  {
   "cell_type": "code",
   "execution_count": 102,
   "id": "7a2e3686",
   "metadata": {
    "slideshow": {
     "slide_type": "fragment"
    }
   },
   "outputs": [
    {
     "ename": "KeyboardInterrupt",
     "evalue": "",
     "output_type": "error",
     "traceback": [
      "\u001b[0;31m---------------------------------------------------------------------------\u001b[0m",
      "\u001b[0;31mKeyboardInterrupt\u001b[0m                         Traceback (most recent call last)",
      "\u001b[0;32m/var/folders/k7/0dwl2knn34q4_hlbvrsbm2rr0000gn/T/ipykernel_29632/3247670211.py\u001b[0m in \u001b[0;36m<module>\u001b[0;34m\u001b[0m\n\u001b[1;32m     16\u001b[0m \u001b[0;34m\u001b[0m\u001b[0m\n\u001b[1;32m     17\u001b[0m \u001b[0;31m# Fit the grid search to the training data\u001b[0m\u001b[0;34m\u001b[0m\u001b[0;34m\u001b[0m\u001b[0m\n\u001b[0;32m---> 18\u001b[0;31m \u001b[0mgrid_search\u001b[0m\u001b[0;34m.\u001b[0m\u001b[0mfit\u001b[0m\u001b[0;34m(\u001b[0m\u001b[0mX_train\u001b[0m\u001b[0;34m,\u001b[0m \u001b[0my_train\u001b[0m\u001b[0;34m)\u001b[0m\u001b[0;34m\u001b[0m\u001b[0;34m\u001b[0m\u001b[0m\n\u001b[0m\u001b[1;32m     19\u001b[0m \u001b[0;34m\u001b[0m\u001b[0m\n\u001b[1;32m     20\u001b[0m \u001b[0;31m# Get the best parameters\u001b[0m\u001b[0;34m\u001b[0m\u001b[0;34m\u001b[0m\u001b[0m\n",
      "\u001b[0;32m~/opt/anaconda3/lib/python3.9/site-packages/sklearn/model_selection/_search.py\u001b[0m in \u001b[0;36mfit\u001b[0;34m(self, X, y, groups, **fit_params)\u001b[0m\n\u001b[1;32m    889\u001b[0m                 \u001b[0;32mreturn\u001b[0m \u001b[0mresults\u001b[0m\u001b[0;34m\u001b[0m\u001b[0;34m\u001b[0m\u001b[0m\n\u001b[1;32m    890\u001b[0m \u001b[0;34m\u001b[0m\u001b[0m\n\u001b[0;32m--> 891\u001b[0;31m             \u001b[0mself\u001b[0m\u001b[0;34m.\u001b[0m\u001b[0m_run_search\u001b[0m\u001b[0;34m(\u001b[0m\u001b[0mevaluate_candidates\u001b[0m\u001b[0;34m)\u001b[0m\u001b[0;34m\u001b[0m\u001b[0;34m\u001b[0m\u001b[0m\n\u001b[0m\u001b[1;32m    892\u001b[0m \u001b[0;34m\u001b[0m\u001b[0m\n\u001b[1;32m    893\u001b[0m             \u001b[0;31m# multimetric is determined here because in the case of a callable\u001b[0m\u001b[0;34m\u001b[0m\u001b[0;34m\u001b[0m\u001b[0m\n",
      "\u001b[0;32m~/opt/anaconda3/lib/python3.9/site-packages/sklearn/model_selection/_search.py\u001b[0m in \u001b[0;36m_run_search\u001b[0;34m(self, evaluate_candidates)\u001b[0m\n\u001b[1;32m   1390\u001b[0m     \u001b[0;32mdef\u001b[0m \u001b[0m_run_search\u001b[0m\u001b[0;34m(\u001b[0m\u001b[0mself\u001b[0m\u001b[0;34m,\u001b[0m \u001b[0mevaluate_candidates\u001b[0m\u001b[0;34m)\u001b[0m\u001b[0;34m:\u001b[0m\u001b[0;34m\u001b[0m\u001b[0;34m\u001b[0m\u001b[0m\n\u001b[1;32m   1391\u001b[0m         \u001b[0;34m\"\"\"Search all candidates in param_grid\"\"\"\u001b[0m\u001b[0;34m\u001b[0m\u001b[0;34m\u001b[0m\u001b[0m\n\u001b[0;32m-> 1392\u001b[0;31m         \u001b[0mevaluate_candidates\u001b[0m\u001b[0;34m(\u001b[0m\u001b[0mParameterGrid\u001b[0m\u001b[0;34m(\u001b[0m\u001b[0mself\u001b[0m\u001b[0;34m.\u001b[0m\u001b[0mparam_grid\u001b[0m\u001b[0;34m)\u001b[0m\u001b[0;34m)\u001b[0m\u001b[0;34m\u001b[0m\u001b[0;34m\u001b[0m\u001b[0m\n\u001b[0m\u001b[1;32m   1393\u001b[0m \u001b[0;34m\u001b[0m\u001b[0m\n\u001b[1;32m   1394\u001b[0m \u001b[0;34m\u001b[0m\u001b[0m\n",
      "\u001b[0;32m~/opt/anaconda3/lib/python3.9/site-packages/sklearn/model_selection/_search.py\u001b[0m in \u001b[0;36mevaluate_candidates\u001b[0;34m(candidate_params, cv, more_results)\u001b[0m\n\u001b[1;32m    836\u001b[0m                     )\n\u001b[1;32m    837\u001b[0m \u001b[0;34m\u001b[0m\u001b[0m\n\u001b[0;32m--> 838\u001b[0;31m                 out = parallel(\n\u001b[0m\u001b[1;32m    839\u001b[0m                     delayed(_fit_and_score)(\n\u001b[1;32m    840\u001b[0m                         \u001b[0mclone\u001b[0m\u001b[0;34m(\u001b[0m\u001b[0mbase_estimator\u001b[0m\u001b[0;34m)\u001b[0m\u001b[0;34m,\u001b[0m\u001b[0;34m\u001b[0m\u001b[0;34m\u001b[0m\u001b[0m\n",
      "\u001b[0;32m~/opt/anaconda3/lib/python3.9/site-packages/joblib/parallel.py\u001b[0m in \u001b[0;36m__call__\u001b[0;34m(self, iterable)\u001b[0m\n\u001b[1;32m   1096\u001b[0m \u001b[0;34m\u001b[0m\u001b[0m\n\u001b[1;32m   1097\u001b[0m             \u001b[0;32mwith\u001b[0m \u001b[0mself\u001b[0m\u001b[0;34m.\u001b[0m\u001b[0m_backend\u001b[0m\u001b[0;34m.\u001b[0m\u001b[0mretrieval_context\u001b[0m\u001b[0;34m(\u001b[0m\u001b[0;34m)\u001b[0m\u001b[0;34m:\u001b[0m\u001b[0;34m\u001b[0m\u001b[0;34m\u001b[0m\u001b[0m\n\u001b[0;32m-> 1098\u001b[0;31m                 \u001b[0mself\u001b[0m\u001b[0;34m.\u001b[0m\u001b[0mretrieve\u001b[0m\u001b[0;34m(\u001b[0m\u001b[0;34m)\u001b[0m\u001b[0;34m\u001b[0m\u001b[0;34m\u001b[0m\u001b[0m\n\u001b[0m\u001b[1;32m   1099\u001b[0m             \u001b[0;31m# Make sure that we get a last message telling us we are done\u001b[0m\u001b[0;34m\u001b[0m\u001b[0;34m\u001b[0m\u001b[0m\n\u001b[1;32m   1100\u001b[0m             \u001b[0melapsed_time\u001b[0m \u001b[0;34m=\u001b[0m \u001b[0mtime\u001b[0m\u001b[0;34m.\u001b[0m\u001b[0mtime\u001b[0m\u001b[0;34m(\u001b[0m\u001b[0;34m)\u001b[0m \u001b[0;34m-\u001b[0m \u001b[0mself\u001b[0m\u001b[0;34m.\u001b[0m\u001b[0m_start_time\u001b[0m\u001b[0;34m\u001b[0m\u001b[0;34m\u001b[0m\u001b[0m\n",
      "\u001b[0;32m~/opt/anaconda3/lib/python3.9/site-packages/joblib/parallel.py\u001b[0m in \u001b[0;36mretrieve\u001b[0;34m(self)\u001b[0m\n\u001b[1;32m    973\u001b[0m             \u001b[0;32mtry\u001b[0m\u001b[0;34m:\u001b[0m\u001b[0;34m\u001b[0m\u001b[0;34m\u001b[0m\u001b[0m\n\u001b[1;32m    974\u001b[0m                 \u001b[0;32mif\u001b[0m \u001b[0mgetattr\u001b[0m\u001b[0;34m(\u001b[0m\u001b[0mself\u001b[0m\u001b[0;34m.\u001b[0m\u001b[0m_backend\u001b[0m\u001b[0;34m,\u001b[0m \u001b[0;34m'supports_timeout'\u001b[0m\u001b[0;34m,\u001b[0m \u001b[0;32mFalse\u001b[0m\u001b[0;34m)\u001b[0m\u001b[0;34m:\u001b[0m\u001b[0;34m\u001b[0m\u001b[0;34m\u001b[0m\u001b[0m\n\u001b[0;32m--> 975\u001b[0;31m                     \u001b[0mself\u001b[0m\u001b[0;34m.\u001b[0m\u001b[0m_output\u001b[0m\u001b[0;34m.\u001b[0m\u001b[0mextend\u001b[0m\u001b[0;34m(\u001b[0m\u001b[0mjob\u001b[0m\u001b[0;34m.\u001b[0m\u001b[0mget\u001b[0m\u001b[0;34m(\u001b[0m\u001b[0mtimeout\u001b[0m\u001b[0;34m=\u001b[0m\u001b[0mself\u001b[0m\u001b[0;34m.\u001b[0m\u001b[0mtimeout\u001b[0m\u001b[0;34m)\u001b[0m\u001b[0;34m)\u001b[0m\u001b[0;34m\u001b[0m\u001b[0;34m\u001b[0m\u001b[0m\n\u001b[0m\u001b[1;32m    976\u001b[0m                 \u001b[0;32melse\u001b[0m\u001b[0;34m:\u001b[0m\u001b[0;34m\u001b[0m\u001b[0;34m\u001b[0m\u001b[0m\n\u001b[1;32m    977\u001b[0m                     \u001b[0mself\u001b[0m\u001b[0;34m.\u001b[0m\u001b[0m_output\u001b[0m\u001b[0;34m.\u001b[0m\u001b[0mextend\u001b[0m\u001b[0;34m(\u001b[0m\u001b[0mjob\u001b[0m\u001b[0;34m.\u001b[0m\u001b[0mget\u001b[0m\u001b[0;34m(\u001b[0m\u001b[0;34m)\u001b[0m\u001b[0;34m)\u001b[0m\u001b[0;34m\u001b[0m\u001b[0;34m\u001b[0m\u001b[0m\n",
      "\u001b[0;32m~/opt/anaconda3/lib/python3.9/site-packages/joblib/_parallel_backends.py\u001b[0m in \u001b[0;36mwrap_future_result\u001b[0;34m(future, timeout)\u001b[0m\n\u001b[1;32m    565\u001b[0m         AsyncResults.get from multiprocessing.\"\"\"\n\u001b[1;32m    566\u001b[0m         \u001b[0;32mtry\u001b[0m\u001b[0;34m:\u001b[0m\u001b[0;34m\u001b[0m\u001b[0;34m\u001b[0m\u001b[0m\n\u001b[0;32m--> 567\u001b[0;31m             \u001b[0;32mreturn\u001b[0m \u001b[0mfuture\u001b[0m\u001b[0;34m.\u001b[0m\u001b[0mresult\u001b[0m\u001b[0;34m(\u001b[0m\u001b[0mtimeout\u001b[0m\u001b[0;34m=\u001b[0m\u001b[0mtimeout\u001b[0m\u001b[0;34m)\u001b[0m\u001b[0;34m\u001b[0m\u001b[0;34m\u001b[0m\u001b[0m\n\u001b[0m\u001b[1;32m    568\u001b[0m         \u001b[0;32mexcept\u001b[0m \u001b[0mCfTimeoutError\u001b[0m \u001b[0;32mas\u001b[0m \u001b[0me\u001b[0m\u001b[0;34m:\u001b[0m\u001b[0;34m\u001b[0m\u001b[0;34m\u001b[0m\u001b[0m\n\u001b[1;32m    569\u001b[0m             \u001b[0;32mraise\u001b[0m \u001b[0mTimeoutError\u001b[0m \u001b[0;32mfrom\u001b[0m \u001b[0me\u001b[0m\u001b[0;34m\u001b[0m\u001b[0;34m\u001b[0m\u001b[0m\n",
      "\u001b[0;32m~/opt/anaconda3/lib/python3.9/concurrent/futures/_base.py\u001b[0m in \u001b[0;36mresult\u001b[0;34m(self, timeout)\u001b[0m\n\u001b[1;32m    439\u001b[0m                     \u001b[0;32mreturn\u001b[0m \u001b[0mself\u001b[0m\u001b[0;34m.\u001b[0m\u001b[0m__get_result\u001b[0m\u001b[0;34m(\u001b[0m\u001b[0;34m)\u001b[0m\u001b[0;34m\u001b[0m\u001b[0;34m\u001b[0m\u001b[0m\n\u001b[1;32m    440\u001b[0m \u001b[0;34m\u001b[0m\u001b[0m\n\u001b[0;32m--> 441\u001b[0;31m                 \u001b[0mself\u001b[0m\u001b[0;34m.\u001b[0m\u001b[0m_condition\u001b[0m\u001b[0;34m.\u001b[0m\u001b[0mwait\u001b[0m\u001b[0;34m(\u001b[0m\u001b[0mtimeout\u001b[0m\u001b[0;34m)\u001b[0m\u001b[0;34m\u001b[0m\u001b[0;34m\u001b[0m\u001b[0m\n\u001b[0m\u001b[1;32m    442\u001b[0m \u001b[0;34m\u001b[0m\u001b[0m\n\u001b[1;32m    443\u001b[0m                 \u001b[0;32mif\u001b[0m \u001b[0mself\u001b[0m\u001b[0;34m.\u001b[0m\u001b[0m_state\u001b[0m \u001b[0;32min\u001b[0m \u001b[0;34m[\u001b[0m\u001b[0mCANCELLED\u001b[0m\u001b[0;34m,\u001b[0m \u001b[0mCANCELLED_AND_NOTIFIED\u001b[0m\u001b[0;34m]\u001b[0m\u001b[0;34m:\u001b[0m\u001b[0;34m\u001b[0m\u001b[0;34m\u001b[0m\u001b[0m\n",
      "\u001b[0;32m~/opt/anaconda3/lib/python3.9/threading.py\u001b[0m in \u001b[0;36mwait\u001b[0;34m(self, timeout)\u001b[0m\n\u001b[1;32m    310\u001b[0m         \u001b[0;32mtry\u001b[0m\u001b[0;34m:\u001b[0m    \u001b[0;31m# restore state no matter what (e.g., KeyboardInterrupt)\u001b[0m\u001b[0;34m\u001b[0m\u001b[0;34m\u001b[0m\u001b[0m\n\u001b[1;32m    311\u001b[0m             \u001b[0;32mif\u001b[0m \u001b[0mtimeout\u001b[0m \u001b[0;32mis\u001b[0m \u001b[0;32mNone\u001b[0m\u001b[0;34m:\u001b[0m\u001b[0;34m\u001b[0m\u001b[0;34m\u001b[0m\u001b[0m\n\u001b[0;32m--> 312\u001b[0;31m                 \u001b[0mwaiter\u001b[0m\u001b[0;34m.\u001b[0m\u001b[0macquire\u001b[0m\u001b[0;34m(\u001b[0m\u001b[0;34m)\u001b[0m\u001b[0;34m\u001b[0m\u001b[0;34m\u001b[0m\u001b[0m\n\u001b[0m\u001b[1;32m    313\u001b[0m                 \u001b[0mgotit\u001b[0m \u001b[0;34m=\u001b[0m \u001b[0;32mTrue\u001b[0m\u001b[0;34m\u001b[0m\u001b[0;34m\u001b[0m\u001b[0m\n\u001b[1;32m    314\u001b[0m             \u001b[0;32melse\u001b[0m\u001b[0;34m:\u001b[0m\u001b[0;34m\u001b[0m\u001b[0;34m\u001b[0m\u001b[0m\n",
      "\u001b[0;31mKeyboardInterrupt\u001b[0m: "
     ]
    }
   ],
   "source": [
    "# Initialize the logistic regression model with a larger maximum number of iterations\n",
    "logreg = LogisticRegression(max_iter=1000)\n",
    "\n",
    "# Define the parameter distribution with a larger range of tolerances\n",
    "param_dist = {\n",
    "    'penalty': ['l1', 'l2', 'elasticnet'],\n",
    "    'C': np.logspace(-4, 10, 20),\n",
    "    'solver': ['liblinear', 'saga'],\n",
    "    'tol': np.logspace(-4, 0, 20)  # Increase the upper bound to 10^0 = 1\n",
    "}\n",
    "\n",
    "\n",
    "# Initialize the grid search\n",
    "grid_search = GridSearchCV(logreg, param_grid, cv=5, scoring='roc_auc', n_jobs=-1)\n",
    "\n",
    "# Fit the grid search to the training data\n",
    "grid_search.fit(X_train, y_train)\n",
    "\n",
    "# Get the best parameters\n",
    "best_params = grid_search.best_params_\n",
    "\n",
    "# Print the best parameters\n",
    "print('Best parameters:', best_params)\n",
    "\n",
    "# Get the best score\n",
    "best_score = grid_search.best_score_\n",
    "\n",
    "# Print the best score\n",
    "print('Best score:', best_score)"
   ]
  },
  {
   "cell_type": "code",
   "execution_count": 103,
   "id": "250174f9",
   "metadata": {
    "slideshow": {
     "slide_type": "skip"
    }
   },
   "outputs": [
    {
     "name": "stderr",
     "output_type": "stream",
     "text": [
      "/Users/mengjiatan/opt/anaconda3/lib/python3.9/site-packages/sklearn/linear_model/_sag.py:352: ConvergenceWarning: The max_iter was reached which means the coef_ did not converge\n",
      "  warnings.warn(\n"
     ]
    },
    {
     "ename": "KeyboardInterrupt",
     "evalue": "",
     "output_type": "error",
     "traceback": [
      "\u001b[0;31m---------------------------------------------------------------------------\u001b[0m",
      "\u001b[0;31mKeyboardInterrupt\u001b[0m                         Traceback (most recent call last)",
      "\u001b[0;32m/var/folders/k7/0dwl2knn34q4_hlbvrsbm2rr0000gn/T/ipykernel_29632/2449104497.py\u001b[0m in \u001b[0;36m<module>\u001b[0;34m\u001b[0m\n\u001b[1;32m     16\u001b[0m \u001b[0;34m\u001b[0m\u001b[0m\n\u001b[1;32m     17\u001b[0m \u001b[0;31m# Fit the randomized search to the training data\u001b[0m\u001b[0;34m\u001b[0m\u001b[0;34m\u001b[0m\u001b[0m\n\u001b[0;32m---> 18\u001b[0;31m \u001b[0mrandom_search\u001b[0m\u001b[0;34m.\u001b[0m\u001b[0mfit\u001b[0m\u001b[0;34m(\u001b[0m\u001b[0mX_train\u001b[0m\u001b[0;34m,\u001b[0m \u001b[0my_train\u001b[0m\u001b[0;34m)\u001b[0m\u001b[0;34m\u001b[0m\u001b[0;34m\u001b[0m\u001b[0m\n\u001b[0m\u001b[1;32m     19\u001b[0m \u001b[0;34m\u001b[0m\u001b[0m\n\u001b[1;32m     20\u001b[0m \u001b[0;31m# Get the best parameters\u001b[0m\u001b[0;34m\u001b[0m\u001b[0;34m\u001b[0m\u001b[0m\n",
      "\u001b[0;32m~/opt/anaconda3/lib/python3.9/site-packages/sklearn/model_selection/_search.py\u001b[0m in \u001b[0;36mfit\u001b[0;34m(self, X, y, groups, **fit_params)\u001b[0m\n\u001b[1;32m    889\u001b[0m                 \u001b[0;32mreturn\u001b[0m \u001b[0mresults\u001b[0m\u001b[0;34m\u001b[0m\u001b[0;34m\u001b[0m\u001b[0m\n\u001b[1;32m    890\u001b[0m \u001b[0;34m\u001b[0m\u001b[0m\n\u001b[0;32m--> 891\u001b[0;31m             \u001b[0mself\u001b[0m\u001b[0;34m.\u001b[0m\u001b[0m_run_search\u001b[0m\u001b[0;34m(\u001b[0m\u001b[0mevaluate_candidates\u001b[0m\u001b[0;34m)\u001b[0m\u001b[0;34m\u001b[0m\u001b[0;34m\u001b[0m\u001b[0m\n\u001b[0m\u001b[1;32m    892\u001b[0m \u001b[0;34m\u001b[0m\u001b[0m\n\u001b[1;32m    893\u001b[0m             \u001b[0;31m# multimetric is determined here because in the case of a callable\u001b[0m\u001b[0;34m\u001b[0m\u001b[0;34m\u001b[0m\u001b[0m\n",
      "\u001b[0;32m~/opt/anaconda3/lib/python3.9/site-packages/sklearn/model_selection/_search.py\u001b[0m in \u001b[0;36m_run_search\u001b[0;34m(self, evaluate_candidates)\u001b[0m\n\u001b[1;32m   1764\u001b[0m     \u001b[0;32mdef\u001b[0m \u001b[0m_run_search\u001b[0m\u001b[0;34m(\u001b[0m\u001b[0mself\u001b[0m\u001b[0;34m,\u001b[0m \u001b[0mevaluate_candidates\u001b[0m\u001b[0;34m)\u001b[0m\u001b[0;34m:\u001b[0m\u001b[0;34m\u001b[0m\u001b[0;34m\u001b[0m\u001b[0m\n\u001b[1;32m   1765\u001b[0m         \u001b[0;34m\"\"\"Search n_iter candidates from param_distributions\"\"\"\u001b[0m\u001b[0;34m\u001b[0m\u001b[0;34m\u001b[0m\u001b[0m\n\u001b[0;32m-> 1766\u001b[0;31m         evaluate_candidates(\n\u001b[0m\u001b[1;32m   1767\u001b[0m             ParameterSampler(\n\u001b[1;32m   1768\u001b[0m                 \u001b[0mself\u001b[0m\u001b[0;34m.\u001b[0m\u001b[0mparam_distributions\u001b[0m\u001b[0;34m,\u001b[0m \u001b[0mself\u001b[0m\u001b[0;34m.\u001b[0m\u001b[0mn_iter\u001b[0m\u001b[0;34m,\u001b[0m \u001b[0mrandom_state\u001b[0m\u001b[0;34m=\u001b[0m\u001b[0mself\u001b[0m\u001b[0;34m.\u001b[0m\u001b[0mrandom_state\u001b[0m\u001b[0;34m\u001b[0m\u001b[0;34m\u001b[0m\u001b[0m\n",
      "\u001b[0;32m~/opt/anaconda3/lib/python3.9/site-packages/sklearn/model_selection/_search.py\u001b[0m in \u001b[0;36mevaluate_candidates\u001b[0;34m(candidate_params, cv, more_results)\u001b[0m\n\u001b[1;32m    836\u001b[0m                     )\n\u001b[1;32m    837\u001b[0m \u001b[0;34m\u001b[0m\u001b[0m\n\u001b[0;32m--> 838\u001b[0;31m                 out = parallel(\n\u001b[0m\u001b[1;32m    839\u001b[0m                     delayed(_fit_and_score)(\n\u001b[1;32m    840\u001b[0m                         \u001b[0mclone\u001b[0m\u001b[0;34m(\u001b[0m\u001b[0mbase_estimator\u001b[0m\u001b[0;34m)\u001b[0m\u001b[0;34m,\u001b[0m\u001b[0;34m\u001b[0m\u001b[0;34m\u001b[0m\u001b[0m\n",
      "\u001b[0;32m~/opt/anaconda3/lib/python3.9/site-packages/joblib/parallel.py\u001b[0m in \u001b[0;36m__call__\u001b[0;34m(self, iterable)\u001b[0m\n\u001b[1;32m   1096\u001b[0m \u001b[0;34m\u001b[0m\u001b[0m\n\u001b[1;32m   1097\u001b[0m             \u001b[0;32mwith\u001b[0m \u001b[0mself\u001b[0m\u001b[0;34m.\u001b[0m\u001b[0m_backend\u001b[0m\u001b[0;34m.\u001b[0m\u001b[0mretrieval_context\u001b[0m\u001b[0;34m(\u001b[0m\u001b[0;34m)\u001b[0m\u001b[0;34m:\u001b[0m\u001b[0;34m\u001b[0m\u001b[0;34m\u001b[0m\u001b[0m\n\u001b[0;32m-> 1098\u001b[0;31m                 \u001b[0mself\u001b[0m\u001b[0;34m.\u001b[0m\u001b[0mretrieve\u001b[0m\u001b[0;34m(\u001b[0m\u001b[0;34m)\u001b[0m\u001b[0;34m\u001b[0m\u001b[0;34m\u001b[0m\u001b[0m\n\u001b[0m\u001b[1;32m   1099\u001b[0m             \u001b[0;31m# Make sure that we get a last message telling us we are done\u001b[0m\u001b[0;34m\u001b[0m\u001b[0;34m\u001b[0m\u001b[0m\n\u001b[1;32m   1100\u001b[0m             \u001b[0melapsed_time\u001b[0m \u001b[0;34m=\u001b[0m \u001b[0mtime\u001b[0m\u001b[0;34m.\u001b[0m\u001b[0mtime\u001b[0m\u001b[0;34m(\u001b[0m\u001b[0;34m)\u001b[0m \u001b[0;34m-\u001b[0m \u001b[0mself\u001b[0m\u001b[0;34m.\u001b[0m\u001b[0m_start_time\u001b[0m\u001b[0;34m\u001b[0m\u001b[0;34m\u001b[0m\u001b[0m\n",
      "\u001b[0;32m~/opt/anaconda3/lib/python3.9/site-packages/joblib/parallel.py\u001b[0m in \u001b[0;36mretrieve\u001b[0;34m(self)\u001b[0m\n\u001b[1;32m    973\u001b[0m             \u001b[0;32mtry\u001b[0m\u001b[0;34m:\u001b[0m\u001b[0;34m\u001b[0m\u001b[0;34m\u001b[0m\u001b[0m\n\u001b[1;32m    974\u001b[0m                 \u001b[0;32mif\u001b[0m \u001b[0mgetattr\u001b[0m\u001b[0;34m(\u001b[0m\u001b[0mself\u001b[0m\u001b[0;34m.\u001b[0m\u001b[0m_backend\u001b[0m\u001b[0;34m,\u001b[0m \u001b[0;34m'supports_timeout'\u001b[0m\u001b[0;34m,\u001b[0m \u001b[0;32mFalse\u001b[0m\u001b[0;34m)\u001b[0m\u001b[0;34m:\u001b[0m\u001b[0;34m\u001b[0m\u001b[0;34m\u001b[0m\u001b[0m\n\u001b[0;32m--> 975\u001b[0;31m                     \u001b[0mself\u001b[0m\u001b[0;34m.\u001b[0m\u001b[0m_output\u001b[0m\u001b[0;34m.\u001b[0m\u001b[0mextend\u001b[0m\u001b[0;34m(\u001b[0m\u001b[0mjob\u001b[0m\u001b[0;34m.\u001b[0m\u001b[0mget\u001b[0m\u001b[0;34m(\u001b[0m\u001b[0mtimeout\u001b[0m\u001b[0;34m=\u001b[0m\u001b[0mself\u001b[0m\u001b[0;34m.\u001b[0m\u001b[0mtimeout\u001b[0m\u001b[0;34m)\u001b[0m\u001b[0;34m)\u001b[0m\u001b[0;34m\u001b[0m\u001b[0;34m\u001b[0m\u001b[0m\n\u001b[0m\u001b[1;32m    976\u001b[0m                 \u001b[0;32melse\u001b[0m\u001b[0;34m:\u001b[0m\u001b[0;34m\u001b[0m\u001b[0;34m\u001b[0m\u001b[0m\n\u001b[1;32m    977\u001b[0m                     \u001b[0mself\u001b[0m\u001b[0;34m.\u001b[0m\u001b[0m_output\u001b[0m\u001b[0;34m.\u001b[0m\u001b[0mextend\u001b[0m\u001b[0;34m(\u001b[0m\u001b[0mjob\u001b[0m\u001b[0;34m.\u001b[0m\u001b[0mget\u001b[0m\u001b[0;34m(\u001b[0m\u001b[0;34m)\u001b[0m\u001b[0;34m)\u001b[0m\u001b[0;34m\u001b[0m\u001b[0;34m\u001b[0m\u001b[0m\n",
      "\u001b[0;32m~/opt/anaconda3/lib/python3.9/site-packages/joblib/_parallel_backends.py\u001b[0m in \u001b[0;36mwrap_future_result\u001b[0;34m(future, timeout)\u001b[0m\n\u001b[1;32m    565\u001b[0m         AsyncResults.get from multiprocessing.\"\"\"\n\u001b[1;32m    566\u001b[0m         \u001b[0;32mtry\u001b[0m\u001b[0;34m:\u001b[0m\u001b[0;34m\u001b[0m\u001b[0;34m\u001b[0m\u001b[0m\n\u001b[0;32m--> 567\u001b[0;31m             \u001b[0;32mreturn\u001b[0m \u001b[0mfuture\u001b[0m\u001b[0;34m.\u001b[0m\u001b[0mresult\u001b[0m\u001b[0;34m(\u001b[0m\u001b[0mtimeout\u001b[0m\u001b[0;34m=\u001b[0m\u001b[0mtimeout\u001b[0m\u001b[0;34m)\u001b[0m\u001b[0;34m\u001b[0m\u001b[0;34m\u001b[0m\u001b[0m\n\u001b[0m\u001b[1;32m    568\u001b[0m         \u001b[0;32mexcept\u001b[0m \u001b[0mCfTimeoutError\u001b[0m \u001b[0;32mas\u001b[0m \u001b[0me\u001b[0m\u001b[0;34m:\u001b[0m\u001b[0;34m\u001b[0m\u001b[0;34m\u001b[0m\u001b[0m\n\u001b[1;32m    569\u001b[0m             \u001b[0;32mraise\u001b[0m \u001b[0mTimeoutError\u001b[0m \u001b[0;32mfrom\u001b[0m \u001b[0me\u001b[0m\u001b[0;34m\u001b[0m\u001b[0;34m\u001b[0m\u001b[0m\n",
      "\u001b[0;32m~/opt/anaconda3/lib/python3.9/concurrent/futures/_base.py\u001b[0m in \u001b[0;36mresult\u001b[0;34m(self, timeout)\u001b[0m\n\u001b[1;32m    439\u001b[0m                     \u001b[0;32mreturn\u001b[0m \u001b[0mself\u001b[0m\u001b[0;34m.\u001b[0m\u001b[0m__get_result\u001b[0m\u001b[0;34m(\u001b[0m\u001b[0;34m)\u001b[0m\u001b[0;34m\u001b[0m\u001b[0;34m\u001b[0m\u001b[0m\n\u001b[1;32m    440\u001b[0m \u001b[0;34m\u001b[0m\u001b[0m\n\u001b[0;32m--> 441\u001b[0;31m                 \u001b[0mself\u001b[0m\u001b[0;34m.\u001b[0m\u001b[0m_condition\u001b[0m\u001b[0;34m.\u001b[0m\u001b[0mwait\u001b[0m\u001b[0;34m(\u001b[0m\u001b[0mtimeout\u001b[0m\u001b[0;34m)\u001b[0m\u001b[0;34m\u001b[0m\u001b[0;34m\u001b[0m\u001b[0m\n\u001b[0m\u001b[1;32m    442\u001b[0m \u001b[0;34m\u001b[0m\u001b[0m\n\u001b[1;32m    443\u001b[0m                 \u001b[0;32mif\u001b[0m \u001b[0mself\u001b[0m\u001b[0;34m.\u001b[0m\u001b[0m_state\u001b[0m \u001b[0;32min\u001b[0m \u001b[0;34m[\u001b[0m\u001b[0mCANCELLED\u001b[0m\u001b[0;34m,\u001b[0m \u001b[0mCANCELLED_AND_NOTIFIED\u001b[0m\u001b[0;34m]\u001b[0m\u001b[0;34m:\u001b[0m\u001b[0;34m\u001b[0m\u001b[0;34m\u001b[0m\u001b[0m\n",
      "\u001b[0;32m~/opt/anaconda3/lib/python3.9/threading.py\u001b[0m in \u001b[0;36mwait\u001b[0;34m(self, timeout)\u001b[0m\n\u001b[1;32m    310\u001b[0m         \u001b[0;32mtry\u001b[0m\u001b[0;34m:\u001b[0m    \u001b[0;31m# restore state no matter what (e.g., KeyboardInterrupt)\u001b[0m\u001b[0;34m\u001b[0m\u001b[0;34m\u001b[0m\u001b[0m\n\u001b[1;32m    311\u001b[0m             \u001b[0;32mif\u001b[0m \u001b[0mtimeout\u001b[0m \u001b[0;32mis\u001b[0m \u001b[0;32mNone\u001b[0m\u001b[0;34m:\u001b[0m\u001b[0;34m\u001b[0m\u001b[0;34m\u001b[0m\u001b[0m\n\u001b[0;32m--> 312\u001b[0;31m                 \u001b[0mwaiter\u001b[0m\u001b[0;34m.\u001b[0m\u001b[0macquire\u001b[0m\u001b[0;34m(\u001b[0m\u001b[0;34m)\u001b[0m\u001b[0;34m\u001b[0m\u001b[0;34m\u001b[0m\u001b[0m\n\u001b[0m\u001b[1;32m    313\u001b[0m                 \u001b[0mgotit\u001b[0m \u001b[0;34m=\u001b[0m \u001b[0;32mTrue\u001b[0m\u001b[0;34m\u001b[0m\u001b[0;34m\u001b[0m\u001b[0m\n\u001b[1;32m    314\u001b[0m             \u001b[0;32melse\u001b[0m\u001b[0;34m:\u001b[0m\u001b[0;34m\u001b[0m\u001b[0;34m\u001b[0m\u001b[0m\n",
      "\u001b[0;31mKeyboardInterrupt\u001b[0m: "
     ]
    }
   ],
   "source": [
    "from sklearn.model_selection import RandomizedSearchCV\n",
    "\n",
    "# Initialize the logistic regression model with a larger maximum number of iterations\n",
    "logreg = LogisticRegression(max_iter=1000)\n",
    "\n",
    "# Define the parameter distribution with a larger range of tolerances\n",
    "param_dist = {\n",
    "    'penalty': ['l1', 'l2', 'elasticnet'],\n",
    "    'C': np.logspace(-4, 10, 20),\n",
    "    'solver': ['liblinear', 'saga'],\n",
    "    'tol': np.logspace(-4, 0, 20)  # Increase the upper bound to 10^0 = 1\n",
    "}\n",
    "\n",
    "# Initialize the randomized search\n",
    "random_search = RandomizedSearchCV(logreg, param_dist, n_iter=100, cv=5, scoring='roc_auc', n_jobs=-1)\n",
    "\n",
    "# Fit the randomized search to the training data\n",
    "random_search.fit(X_train, y_train)\n",
    "\n",
    "# Get the best parameters\n",
    "best_params = random_search.best_params_\n",
    "\n",
    "# Print the best parameters\n",
    "print('Best parameters:', best_params)\n",
    "\n",
    "# Get the best score\n",
    "best_score = random_search.best_score_\n",
    "\n",
    "# Print the best score\n",
    "print('Best score:', best_score)"
   ]
  },
  {
   "cell_type": "markdown",
   "id": "bfe57a1b",
   "metadata": {
    "slideshow": {
     "slide_type": "subslide"
    }
   },
   "source": [
    "# Prediction & Score Calculation"
   ]
  },
  {
   "cell_type": "code",
   "execution_count": 108,
   "id": "bc09677b",
   "metadata": {
    "slideshow": {
     "slide_type": "fragment"
    }
   },
   "outputs": [
    {
     "name": "stdout",
     "output_type": "stream",
     "text": [
      "[442. 323. 425. ... 374. 354. 381.]\n"
     ]
    },
    {
     "data": {
      "text/plain": [
       "23285"
      ]
     },
     "execution_count": 108,
     "metadata": {},
     "output_type": "execute_result"
    }
   ],
   "source": [
    "# Define the range of the credit scores\n",
    "min_score = 300\n",
    "max_score = 850\n",
    "\n",
    "# Convert the probabilities into odds\n",
    "odds = y_pred_proba / (1 - y_pred_proba)\n",
    "\n",
    "# Perform a logistic transformation on the odds\n",
    "log_odds = np.log(odds)\n",
    "\n",
    "# Scale the log odds to the range of the credit scores\n",
    "credit_scores = (log_odds - np.min(log_odds)) / (np.max(log_odds) - np.min(log_odds)) * (max_score - min_score) + min_score\n",
    "\n",
    "# Round the credit scores to integers\n",
    "credit_scores = np.round(credit_scores)\n",
    "\n",
    "# Display the first 10 credit scores\n",
    "print((credit_scores))\n",
    "len(credit_scores)"
   ]
  },
  {
   "cell_type": "markdown",
   "id": "93715eaf",
   "metadata": {
    "slideshow": {
     "slide_type": "fragment"
    }
   },
   "source": [
    "- Convert the probabilities into odds: The odds of an event is the probability of the event happening divided by the probability of the event not happening. In this case, the event is delinquency. So odds = y_pred_proba / (1 - y_pred_proba) calculates the odds of delinquency for each individual.\n",
    "\n",
    "- Perform a logistic transformation on the odds: The logistic transformation is the natural logarithm of the odds. It transforms the odds, which range from 0 to infinity, to log odds, which range from negative infinity to positive infinity. So log_odds = np.log(odds) calculates the log odds of delinquency for each individual.\n",
    "\n",
    "- Scale the log odds to the range of the credit scores: This step transforms the log odds, which range from negative infinity to positive infinity, to credit scores, which range from min_score to max_score. The formula (log_odds - np.min(log_odds)) / (np.max(log_odds) - np.min(log_odds)) * (max_score - min_score) + min_score is a min-max normalization, which scales the log odds to the range of the credit scores.\n",
    "\n",
    "- Round the credit scores to integers"
   ]
  },
  {
   "cell_type": "code",
   "execution_count": 109,
   "id": "be0ba7cf",
   "metadata": {
    "slideshow": {
     "slide_type": "subslide"
    }
   },
   "outputs": [
    {
     "data": {
      "image/png": "[encoded data removed]",
      "text/plain": [
       "<Figure size 1200x800 with 2 Axes>"
      ]
     },
     "metadata": {},
     "output_type": "display_data"
    }
   ],
   "source": [
    "import seaborn as sns\n",
    "import matplotlib.pyplot as plt\n",
    "\n",
    "# Create a DataFrame with the credit scores\n",
    "df_scores = pd.DataFrame(credit_scores, columns=['Credit Score'])\n",
    "\n",
    "# Create a heatmap of the credit scores\n",
    "plt.figure(figsize=(12, 8))\n",
    "sns.heatmap(df_scores, cmap='coolwarm', annot=True, fmt='.0f')\n",
    "plt.title('Heatmap of Credit Scores')\n",
    "plt.show()"
   ]
  },
  {
   "cell_type": "code",
   "execution_count": null,
   "id": "e406a3b4",
   "metadata": {
    "slideshow": {
     "slide_type": "skip"
    }
   },
   "outputs": [],
   "source": [
    "#test model function"
   ]
  }
 ],
 "metadata": {
  "kernelspec": {
   "display_name": "Python 3 (ipykernel)",
   "language": "python",
   "name": "python3"
  },
  "language_info": {
   "codemirror_mode": {
    "name": "ipython",
    "version": 3
   },
   "file_extension": ".py",
   "mimetype": "text/x-python",
   "name": "python",
   "nbconvert_exporter": "python",
   "pygments_lexer": "ipython3",
   "version": "3.9.13"
  }
 },
 "nbformat": 4,
 "nbformat_minor": 5
}
